{
  "nbformat": 4,
  "nbformat_minor": 0,
  "metadata": {
    "kernelspec": {
      "name": "python3",
      "display_name": "Python 3"
    },
    "language_info": {
      "codemirror_mode": {
        "name": "ipython",
        "version": 3
      },
      "file_extension": ".py",
      "mimetype": "text/x-python",
      "name": "python",
      "nbconvert_exporter": "python",
      "pygments_lexer": "ipython3",
      "version": "3.6.6"
    },
    "colab": {
      "name": "LSTM을 활용한 삼성전자 주가예측.ipynb",
      "provenance": [],
      "collapsed_sections": []
    },
    "accelerator": "GPU"
  },
  "cells": [
    {
      "cell_type": "code",
      "metadata": {
        "id": "RJtxeKQm0l2w",
        "colab_type": "code",
        "colab": {}
      },
      "source": [
        "import pandas as pd\n",
        "import numpy as np\n",
        "import matplotlib.pyplot as plt\n",
        "import seaborn as sns\n",
        "import warnings\n",
        "import os\n",
        "\n",
        "%matplotlib inline\n",
        "warnings.filterwarnings('ignore')\n",
        "\n",
        "plt.rcParams['font.family'] = 'NanumGothic'"
      ],
      "execution_count": 0,
      "outputs": []
    },
    {
      "cell_type": "code",
      "metadata": {
        "id": "D9M6PvGQ9s0V",
        "colab_type": "code",
        "outputId": "511028c9-c6f8-4453-d582-ab0118f52354",
        "colab": {
          "base_uri": "https://localhost:8080/",
          "height": 217
        }
      },
      "source": [
        "%config InlineBackend.figure_format = 'retina'\n",
        " \n",
        "!apt -qq -y install fonts-nanum"
      ],
      "execution_count": 2,
      "outputs": [
        {
          "output_type": "stream",
          "text": [
            "The following NEW packages will be installed:\n",
            "  fonts-nanum\n",
            "0 upgraded, 1 newly installed, 0 to remove and 25 not upgraded.\n",
            "Need to get 9,604 kB of archives.\n",
            "After this operation, 29.5 MB of additional disk space will be used.\n",
            "Selecting previously unselected package fonts-nanum.\n",
            "(Reading database ... 145118 files and directories currently installed.)\n",
            "Preparing to unpack .../fonts-nanum_20170925-1_all.deb ...\n",
            "Unpacking fonts-nanum (20170925-1) ...\n",
            "Setting up fonts-nanum (20170925-1) ...\n",
            "Processing triggers for fontconfig (2.12.6-0ubuntu2) ...\n"
          ],
          "name": "stdout"
        }
      ]
    },
    {
      "cell_type": "code",
      "metadata": {
        "id": "g_xLwDlJ9eAe",
        "colab_type": "code",
        "colab": {}
      },
      "source": [
        "import matplotlib as mpl\n",
        "import matplotlib.font_manager as fm\n",
        "fontpath = '/usr/share/fonts/truetype/nanum/NanumBarunGothic.ttf'\n",
        "font = fm.FontProperties(fname=fontpath, size=9)\n",
        "plt.rc('font', family='NanumBarunGothic') \n",
        "mpl.font_manager._rebuild()"
      ],
      "execution_count": 0,
      "outputs": []
    },
    {
      "cell_type": "code",
      "metadata": {
        "id": "7LIdJ1ag0zne",
        "colab_type": "code",
        "outputId": "67d616cb-c06f-4973-ee1f-3f35a6c84ff7",
        "colab": {
          "base_uri": "https://localhost:8080/",
          "height": 128
        }
      },
      "source": [
        "from google.colab import drive\n",
        "drive.mount('/content/drive')"
      ],
      "execution_count": 5,
      "outputs": [
        {
          "output_type": "stream",
          "text": [
            "Go to this URL in a browser: https://accounts.google.com/o/oauth2/auth?client_id=947318989803-6bn6qk8qdgf4n4g3pfee6491hc0brc4i.apps.googleusercontent.com&redirect_uri=urn%3aietf%3awg%3aoauth%3a2.0%3aoob&response_type=code&scope=email%20https%3a%2f%2fwww.googleapis.com%2fauth%2fdocs.test%20https%3a%2f%2fwww.googleapis.com%2fauth%2fdrive%20https%3a%2f%2fwww.googleapis.com%2fauth%2fdrive.photos.readonly%20https%3a%2f%2fwww.googleapis.com%2fauth%2fpeopleapi.readonly\n",
            "\n",
            "Enter your authorization code:\n",
            "··········\n",
            "Mounted at /content/drive\n"
          ],
          "name": "stdout"
        }
      ]
    },
    {
      "cell_type": "code",
      "metadata": {
        "id": "1VBwxVF910D1",
        "colab_type": "code",
        "colab": {}
      },
      "source": [
        "data_path = '/content/drive/My Drive/Colab Notebooks/03-stock-samsung/data'\n",
        "model_path = '/content/drive/My Drive/Colab Notebooks/03-stock-samsung/model'"
      ],
      "execution_count": 0,
      "outputs": []
    },
    {
      "cell_type": "code",
      "metadata": {
        "id": "pXq0wQX00l3N",
        "colab_type": "code",
        "colab": {}
      },
      "source": [
        "df_price = pd.read_csv(os.path.join(data_path, '01-삼성전자-주가.csv'), encoding='utf8')\n",
        "df_buyer = pd.read_csv(os.path.join(data_path, '02-삼성전자-매매동향.csv'), encoding='utf8')"
      ],
      "execution_count": 0,
      "outputs": []
    },
    {
      "cell_type": "code",
      "metadata": {
        "id": "sCYlC6Rn0l3V",
        "colab_type": "code",
        "outputId": "c7aafa90-7fb1-4eea-e3a3-530c4f43c0c3",
        "colab": {
          "base_uri": "https://localhost:8080/",
          "height": 288
        }
      },
      "source": [
        "df_price.describe()"
      ],
      "execution_count": 8,
      "outputs": [
        {
          "output_type": "execute_result",
          "data": {
            "text/html": [
              "<div>\n",
              "<style scoped>\n",
              "    .dataframe tbody tr th:only-of-type {\n",
              "        vertical-align: middle;\n",
              "    }\n",
              "\n",
              "    .dataframe tbody tr th {\n",
              "        vertical-align: top;\n",
              "    }\n",
              "\n",
              "    .dataframe thead th {\n",
              "        text-align: right;\n",
              "    }\n",
              "</style>\n",
              "<table border=\"1\" class=\"dataframe\">\n",
              "  <thead>\n",
              "    <tr style=\"text-align: right;\">\n",
              "      <th></th>\n",
              "      <th>일자</th>\n",
              "      <th>시가</th>\n",
              "      <th>고가</th>\n",
              "      <th>저가</th>\n",
              "      <th>종가</th>\n",
              "      <th>거래량</th>\n",
              "    </tr>\n",
              "  </thead>\n",
              "  <tbody>\n",
              "    <tr>\n",
              "      <th>count</th>\n",
              "      <td>9.288000e+03</td>\n",
              "      <td>9288.000000</td>\n",
              "      <td>9288.000000</td>\n",
              "      <td>9288.000000</td>\n",
              "      <td>9288.000000</td>\n",
              "      <td>9.288000e+03</td>\n",
              "    </tr>\n",
              "    <tr>\n",
              "      <th>mean</th>\n",
              "      <td>2.001347e+07</td>\n",
              "      <td>11108.556417</td>\n",
              "      <td>11228.754522</td>\n",
              "      <td>10986.106481</td>\n",
              "      <td>11108.235465</td>\n",
              "      <td>1.645823e+07</td>\n",
              "    </tr>\n",
              "    <tr>\n",
              "      <th>std</th>\n",
              "      <td>1.015376e+05</td>\n",
              "      <td>13792.646300</td>\n",
              "      <td>13920.105135</td>\n",
              "      <td>13658.809496</td>\n",
              "      <td>13790.922497</td>\n",
              "      <td>1.701535e+07</td>\n",
              "    </tr>\n",
              "    <tr>\n",
              "      <th>min</th>\n",
              "      <td>1.985010e+07</td>\n",
              "      <td>116.000000</td>\n",
              "      <td>116.000000</td>\n",
              "      <td>115.000000</td>\n",
              "      <td>116.000000</td>\n",
              "      <td>0.000000e+00</td>\n",
              "    </tr>\n",
              "    <tr>\n",
              "      <th>25%</th>\n",
              "      <td>1.992121e+07</td>\n",
              "      <td>624.000000</td>\n",
              "      <td>632.000000</td>\n",
              "      <td>620.000000</td>\n",
              "      <td>623.000000</td>\n",
              "      <td>3.833986e+06</td>\n",
              "    </tr>\n",
              "    <tr>\n",
              "      <th>50%</th>\n",
              "      <td>2.001032e+07</td>\n",
              "      <td>5045.000000</td>\n",
              "      <td>5190.000000</td>\n",
              "      <td>4955.000000</td>\n",
              "      <td>5075.000000</td>\n",
              "      <td>1.199608e+07</td>\n",
              "    </tr>\n",
              "    <tr>\n",
              "      <th>75%</th>\n",
              "      <td>2.010080e+07</td>\n",
              "      <td>15920.000000</td>\n",
              "      <td>16050.000000</td>\n",
              "      <td>15740.000000</td>\n",
              "      <td>15920.000000</td>\n",
              "      <td>2.284080e+07</td>\n",
              "    </tr>\n",
              "    <tr>\n",
              "      <th>max</th>\n",
              "      <td>2.020011e+07</td>\n",
              "      <td>57500.000000</td>\n",
              "      <td>57520.000000</td>\n",
              "      <td>56760.000000</td>\n",
              "      <td>57220.000000</td>\n",
              "      <td>3.266220e+08</td>\n",
              "    </tr>\n",
              "  </tbody>\n",
              "</table>\n",
              "</div>"
            ],
            "text/plain": [
              "                 일자            시가  ...            종가           거래량\n",
              "count  9.288000e+03   9288.000000  ...   9288.000000  9.288000e+03\n",
              "mean   2.001347e+07  11108.556417  ...  11108.235465  1.645823e+07\n",
              "std    1.015376e+05  13792.646300  ...  13790.922497  1.701535e+07\n",
              "min    1.985010e+07    116.000000  ...    116.000000  0.000000e+00\n",
              "25%    1.992121e+07    624.000000  ...    623.000000  3.833986e+06\n",
              "50%    2.001032e+07   5045.000000  ...   5075.000000  1.199608e+07\n",
              "75%    2.010080e+07  15920.000000  ...  15920.000000  2.284080e+07\n",
              "max    2.020011e+07  57500.000000  ...  57220.000000  3.266220e+08\n",
              "\n",
              "[8 rows x 6 columns]"
            ]
          },
          "metadata": {
            "tags": []
          },
          "execution_count": 8
        }
      ]
    },
    {
      "cell_type": "markdown",
      "metadata": {
        "id": "lxPpR3ow0l3g",
        "colab_type": "text"
      },
      "source": [
        "## 날짜형 컬럼으로 변환"
      ]
    },
    {
      "cell_type": "markdown",
      "metadata": {
        "id": "IJUru3n_0l3j",
        "colab_type": "text"
      },
      "source": [
        "format 지정을 반드시 해줘야만 정상적으로 동작함"
      ]
    },
    {
      "cell_type": "code",
      "metadata": {
        "id": "pLT-js4_0l3m",
        "colab_type": "code",
        "outputId": "88621af6-8deb-4806-9ee9-513e614efbb1",
        "colab": {
          "base_uri": "https://localhost:8080/",
          "height": 235
        }
      },
      "source": [
        "pd.to_datetime(df_price['일자'], format='%Y%m%d')"
      ],
      "execution_count": 9,
      "outputs": [
        {
          "output_type": "execute_result",
          "data": {
            "text/plain": [
              "0      2020-01-07\n",
              "1      2020-01-06\n",
              "2      2020-01-03\n",
              "3      2020-01-02\n",
              "4      2019-12-30\n",
              "          ...    \n",
              "9283   1985-01-09\n",
              "9284   1985-01-08\n",
              "9285   1985-01-07\n",
              "9286   1985-01-05\n",
              "9287   1985-01-04\n",
              "Name: 일자, Length: 9288, dtype: datetime64[ns]"
            ]
          },
          "metadata": {
            "tags": []
          },
          "execution_count": 9
        }
      ]
    },
    {
      "cell_type": "code",
      "metadata": {
        "id": "RKhKSpHu0l3x",
        "colab_type": "code",
        "colab": {}
      },
      "source": [
        "df_price['일자'] = pd.to_datetime(df_price['일자'], format='%Y%m%d')"
      ],
      "execution_count": 0,
      "outputs": []
    },
    {
      "cell_type": "code",
      "metadata": {
        "id": "QZhY2elk0l34",
        "colab_type": "code",
        "outputId": "aa3fc005-3b4c-4986-8bcc-a7d486b3ee1d",
        "colab": {
          "base_uri": "https://localhost:8080/",
          "height": 126
        }
      },
      "source": [
        "df_price['일자'].head()"
      ],
      "execution_count": 11,
      "outputs": [
        {
          "output_type": "execute_result",
          "data": {
            "text/plain": [
              "0   2020-01-07\n",
              "1   2020-01-06\n",
              "2   2020-01-03\n",
              "3   2020-01-02\n",
              "4   2019-12-30\n",
              "Name: 일자, dtype: datetime64[ns]"
            ]
          },
          "metadata": {
            "tags": []
          },
          "execution_count": 11
        }
      ]
    },
    {
      "cell_type": "code",
      "metadata": {
        "id": "55aJZkjc0l4E",
        "colab_type": "code",
        "outputId": "95620f9d-21d9-4e0c-ebb8-6f8cbbfd3b39",
        "colab": {
          "base_uri": "https://localhost:8080/",
          "height": 198
        }
      },
      "source": [
        "df_price.head()"
      ],
      "execution_count": 12,
      "outputs": [
        {
          "output_type": "execute_result",
          "data": {
            "text/html": [
              "<div>\n",
              "<style scoped>\n",
              "    .dataframe tbody tr th:only-of-type {\n",
              "        vertical-align: middle;\n",
              "    }\n",
              "\n",
              "    .dataframe tbody tr th {\n",
              "        vertical-align: top;\n",
              "    }\n",
              "\n",
              "    .dataframe thead th {\n",
              "        text-align: right;\n",
              "    }\n",
              "</style>\n",
              "<table border=\"1\" class=\"dataframe\">\n",
              "  <thead>\n",
              "    <tr style=\"text-align: right;\">\n",
              "      <th></th>\n",
              "      <th>일자</th>\n",
              "      <th>시가</th>\n",
              "      <th>고가</th>\n",
              "      <th>저가</th>\n",
              "      <th>종가</th>\n",
              "      <th>거래량</th>\n",
              "    </tr>\n",
              "  </thead>\n",
              "  <tbody>\n",
              "    <tr>\n",
              "      <th>0</th>\n",
              "      <td>2020-01-07</td>\n",
              "      <td>55700</td>\n",
              "      <td>56400</td>\n",
              "      <td>55600</td>\n",
              "      <td>55800</td>\n",
              "      <td>9893846</td>\n",
              "    </tr>\n",
              "    <tr>\n",
              "      <th>1</th>\n",
              "      <td>2020-01-06</td>\n",
              "      <td>54900</td>\n",
              "      <td>55600</td>\n",
              "      <td>54600</td>\n",
              "      <td>55500</td>\n",
              "      <td>10278951</td>\n",
              "    </tr>\n",
              "    <tr>\n",
              "      <th>2</th>\n",
              "      <td>2020-01-03</td>\n",
              "      <td>56000</td>\n",
              "      <td>56600</td>\n",
              "      <td>54900</td>\n",
              "      <td>55500</td>\n",
              "      <td>15422255</td>\n",
              "    </tr>\n",
              "    <tr>\n",
              "      <th>3</th>\n",
              "      <td>2020-01-02</td>\n",
              "      <td>55500</td>\n",
              "      <td>56000</td>\n",
              "      <td>55000</td>\n",
              "      <td>55200</td>\n",
              "      <td>12993228</td>\n",
              "    </tr>\n",
              "    <tr>\n",
              "      <th>4</th>\n",
              "      <td>2019-12-30</td>\n",
              "      <td>56200</td>\n",
              "      <td>56600</td>\n",
              "      <td>55700</td>\n",
              "      <td>55800</td>\n",
              "      <td>8356767</td>\n",
              "    </tr>\n",
              "  </tbody>\n",
              "</table>\n",
              "</div>"
            ],
            "text/plain": [
              "          일자     시가     고가     저가     종가       거래량\n",
              "0 2020-01-07  55700  56400  55600  55800   9893846\n",
              "1 2020-01-06  54900  55600  54600  55500  10278951\n",
              "2 2020-01-03  56000  56600  54900  55500  15422255\n",
              "3 2020-01-02  55500  56000  55000  55200  12993228\n",
              "4 2019-12-30  56200  56600  55700  55800   8356767"
            ]
          },
          "metadata": {
            "tags": []
          },
          "execution_count": 12
        }
      ]
    },
    {
      "cell_type": "code",
      "metadata": {
        "id": "fif43Fh-0l4L",
        "colab_type": "code",
        "colab": {}
      },
      "source": [
        "df_price['연도'] =df_price['일자'].dt.year\n",
        "df_price['월'] =df_price['일자'].dt.month\n",
        "df_price['일'] =df_price['일자'].dt.day"
      ],
      "execution_count": 0,
      "outputs": []
    },
    {
      "cell_type": "code",
      "metadata": {
        "id": "0yAKE9Ag0l4S",
        "colab_type": "code",
        "outputId": "e7470fde-813c-4e25-9779-53f92ec20bfc",
        "colab": {
          "base_uri": "https://localhost:8080/",
          "height": 198
        }
      },
      "source": [
        "df_price.head()"
      ],
      "execution_count": 14,
      "outputs": [
        {
          "output_type": "execute_result",
          "data": {
            "text/html": [
              "<div>\n",
              "<style scoped>\n",
              "    .dataframe tbody tr th:only-of-type {\n",
              "        vertical-align: middle;\n",
              "    }\n",
              "\n",
              "    .dataframe tbody tr th {\n",
              "        vertical-align: top;\n",
              "    }\n",
              "\n",
              "    .dataframe thead th {\n",
              "        text-align: right;\n",
              "    }\n",
              "</style>\n",
              "<table border=\"1\" class=\"dataframe\">\n",
              "  <thead>\n",
              "    <tr style=\"text-align: right;\">\n",
              "      <th></th>\n",
              "      <th>일자</th>\n",
              "      <th>시가</th>\n",
              "      <th>고가</th>\n",
              "      <th>저가</th>\n",
              "      <th>종가</th>\n",
              "      <th>거래량</th>\n",
              "      <th>연도</th>\n",
              "      <th>월</th>\n",
              "      <th>일</th>\n",
              "    </tr>\n",
              "  </thead>\n",
              "  <tbody>\n",
              "    <tr>\n",
              "      <th>0</th>\n",
              "      <td>2020-01-07</td>\n",
              "      <td>55700</td>\n",
              "      <td>56400</td>\n",
              "      <td>55600</td>\n",
              "      <td>55800</td>\n",
              "      <td>9893846</td>\n",
              "      <td>2020</td>\n",
              "      <td>1</td>\n",
              "      <td>7</td>\n",
              "    </tr>\n",
              "    <tr>\n",
              "      <th>1</th>\n",
              "      <td>2020-01-06</td>\n",
              "      <td>54900</td>\n",
              "      <td>55600</td>\n",
              "      <td>54600</td>\n",
              "      <td>55500</td>\n",
              "      <td>10278951</td>\n",
              "      <td>2020</td>\n",
              "      <td>1</td>\n",
              "      <td>6</td>\n",
              "    </tr>\n",
              "    <tr>\n",
              "      <th>2</th>\n",
              "      <td>2020-01-03</td>\n",
              "      <td>56000</td>\n",
              "      <td>56600</td>\n",
              "      <td>54900</td>\n",
              "      <td>55500</td>\n",
              "      <td>15422255</td>\n",
              "      <td>2020</td>\n",
              "      <td>1</td>\n",
              "      <td>3</td>\n",
              "    </tr>\n",
              "    <tr>\n",
              "      <th>3</th>\n",
              "      <td>2020-01-02</td>\n",
              "      <td>55500</td>\n",
              "      <td>56000</td>\n",
              "      <td>55000</td>\n",
              "      <td>55200</td>\n",
              "      <td>12993228</td>\n",
              "      <td>2020</td>\n",
              "      <td>1</td>\n",
              "      <td>2</td>\n",
              "    </tr>\n",
              "    <tr>\n",
              "      <th>4</th>\n",
              "      <td>2019-12-30</td>\n",
              "      <td>56200</td>\n",
              "      <td>56600</td>\n",
              "      <td>55700</td>\n",
              "      <td>55800</td>\n",
              "      <td>8356767</td>\n",
              "      <td>2019</td>\n",
              "      <td>12</td>\n",
              "      <td>30</td>\n",
              "    </tr>\n",
              "  </tbody>\n",
              "</table>\n",
              "</div>"
            ],
            "text/plain": [
              "          일자     시가     고가     저가     종가       거래량    연도   월   일\n",
              "0 2020-01-07  55700  56400  55600  55800   9893846  2020   1   7\n",
              "1 2020-01-06  54900  55600  54600  55500  10278951  2020   1   6\n",
              "2 2020-01-03  56000  56600  54900  55500  15422255  2020   1   3\n",
              "3 2020-01-02  55500  56000  55000  55200  12993228  2020   1   2\n",
              "4 2019-12-30  56200  56600  55700  55800   8356767  2019  12  30"
            ]
          },
          "metadata": {
            "tags": []
          },
          "execution_count": 14
        }
      ]
    },
    {
      "cell_type": "markdown",
      "metadata": {
        "id": "5FBTlube0l4d",
        "colab_type": "text"
      },
      "source": [
        "## 시각화"
      ]
    },
    {
      "cell_type": "code",
      "metadata": {
        "id": "vLPbDUL00l4g",
        "colab_type": "code",
        "colab": {}
      },
      "source": [
        "df = df_price.loc[df_price['연도']>=1990]"
      ],
      "execution_count": 0,
      "outputs": []
    },
    {
      "cell_type": "code",
      "metadata": {
        "id": "MWcaWEa80l4o",
        "colab_type": "code",
        "outputId": "5e77a9be-a7fa-4c14-b7fb-4bec85e92448",
        "colab": {
          "base_uri": "https://localhost:8080/",
          "height": 571
        }
      },
      "source": [
        "plt.figure(figsize=(16, 9))\n",
        "sns.lineplot(y=df['종가'], x=df['일자'])\n",
        "plt.xlabel('time')\n",
        "plt.ylabel('price')"
      ],
      "execution_count": 16,
      "outputs": [
        {
          "output_type": "execute_result",
          "data": {
            "text/plain": [
              "Text(0, 0.5, 'price')"
            ]
          },
          "metadata": {
            "tags": []
          },
          "execution_count": 16
        },
        {
          "output_type": "stream",
          "text": [
            "findfont: Font family ['NanumBarunGothic'] not found. Falling back to DejaVu Sans.\n"
          ],
          "name": "stderr"
        },
        {
          "output_type": "display_data",
          "data": {
            "image/png": "[encoded data removed]",
            "text/plain": [
              "<Figure size 1152x648 with 1 Axes>"
            ]
          },
          "metadata": {
            "tags": [],
            "image/png": {
              "width": 959,
              "height": 536
            }
          }
        }
      ]
    },
    {
      "cell_type": "code",
      "metadata": {
        "id": "PklXgniS0l40",
        "colab_type": "code",
        "outputId": "5834ca42-f0c4-4266-9f23-12284755b2cc",
        "colab": {
          "base_uri": "https://localhost:8080/",
          "height": 615
        }
      },
      "source": [
        "df.corrwith(df['종가']).plot.bar(\n",
        "        figsize = (12, 9), title = \"Correlation with Adj Close\", fontsize = 20,\n",
        "        rot = 90, grid = True)"
      ],
      "execution_count": 17,
      "outputs": [
        {
          "output_type": "execute_result",
          "data": {
            "text/plain": [
              "<matplotlib.axes._subplots.AxesSubplot at 0x7fcfcf45b588>"
            ]
          },
          "metadata": {
            "tags": []
          },
          "execution_count": 17
        },
        {
          "output_type": "stream",
          "text": [
            "findfont: Font family ['NanumBarunGothic'] not found. Falling back to DejaVu Sans.\n",
            "findfont: Font family ['NanumBarunGothic'] not found. Falling back to DejaVu Sans.\n"
          ],
          "name": "stderr"
        },
        {
          "output_type": "display_data",
          "data": {
            "image/png": "[encoded data removed]",
            "text/plain": [
              "<Figure size 864x648 with 1 Axes>"
            ]
          },
          "metadata": {
            "tags": [],
            "image/png": {
              "width": 722,
              "height": 562
            }
          }
        }
      ]
    },
    {
      "cell_type": "code",
      "metadata": {
        "id": "E2RtnMGR0l49",
        "colab_type": "code",
        "colab": {}
      },
      "source": [
        "df = df.sort_index(ascending=False).reset_index(drop=True)"
      ],
      "execution_count": 0,
      "outputs": []
    },
    {
      "cell_type": "code",
      "metadata": {
        "id": "xXVy8RRe0l5H",
        "colab_type": "code",
        "outputId": "876a97a9-32aa-44f8-a99b-7ec09a9f3320",
        "colab": {
          "base_uri": "https://localhost:8080/",
          "height": 407
        }
      },
      "source": [
        "df"
      ],
      "execution_count": 19,
      "outputs": [
        {
          "output_type": "execute_result",
          "data": {
            "text/html": [
              "<div>\n",
              "<style scoped>\n",
              "    .dataframe tbody tr th:only-of-type {\n",
              "        vertical-align: middle;\n",
              "    }\n",
              "\n",
              "    .dataframe tbody tr th {\n",
              "        vertical-align: top;\n",
              "    }\n",
              "\n",
              "    .dataframe thead th {\n",
              "        text-align: right;\n",
              "    }\n",
              "</style>\n",
              "<table border=\"1\" class=\"dataframe\">\n",
              "  <thead>\n",
              "    <tr style=\"text-align: right;\">\n",
              "      <th></th>\n",
              "      <th>일자</th>\n",
              "      <th>시가</th>\n",
              "      <th>고가</th>\n",
              "      <th>저가</th>\n",
              "      <th>종가</th>\n",
              "      <th>거래량</th>\n",
              "      <th>연도</th>\n",
              "      <th>월</th>\n",
              "      <th>일</th>\n",
              "    </tr>\n",
              "  </thead>\n",
              "  <tbody>\n",
              "    <tr>\n",
              "      <th>0</th>\n",
              "      <td>1990-01-03</td>\n",
              "      <td>673</td>\n",
              "      <td>689</td>\n",
              "      <td>661</td>\n",
              "      <td>685</td>\n",
              "      <td>1715032</td>\n",
              "      <td>1990</td>\n",
              "      <td>1</td>\n",
              "      <td>3</td>\n",
              "    </tr>\n",
              "    <tr>\n",
              "      <th>1</th>\n",
              "      <td>1990-01-04</td>\n",
              "      <td>689</td>\n",
              "      <td>701</td>\n",
              "      <td>685</td>\n",
              "      <td>693</td>\n",
              "      <td>2738562</td>\n",
              "      <td>1990</td>\n",
              "      <td>1</td>\n",
              "      <td>4</td>\n",
              "    </tr>\n",
              "    <tr>\n",
              "      <th>2</th>\n",
              "      <td>1990-01-05</td>\n",
              "      <td>689</td>\n",
              "      <td>693</td>\n",
              "      <td>678</td>\n",
              "      <td>678</td>\n",
              "      <td>1790849</td>\n",
              "      <td>1990</td>\n",
              "      <td>1</td>\n",
              "      <td>5</td>\n",
              "    </tr>\n",
              "    <tr>\n",
              "      <th>3</th>\n",
              "      <td>1990-01-06</td>\n",
              "      <td>685</td>\n",
              "      <td>689</td>\n",
              "      <td>681</td>\n",
              "      <td>681</td>\n",
              "      <td>1724183</td>\n",
              "      <td>1990</td>\n",
              "      <td>1</td>\n",
              "      <td>6</td>\n",
              "    </tr>\n",
              "    <tr>\n",
              "      <th>4</th>\n",
              "      <td>1990-01-08</td>\n",
              "      <td>681</td>\n",
              "      <td>687</td>\n",
              "      <td>673</td>\n",
              "      <td>673</td>\n",
              "      <td>966666</td>\n",
              "      <td>1990</td>\n",
              "      <td>1</td>\n",
              "      <td>8</td>\n",
              "    </tr>\n",
              "    <tr>\n",
              "      <th>...</th>\n",
              "      <td>...</td>\n",
              "      <td>...</td>\n",
              "      <td>...</td>\n",
              "      <td>...</td>\n",
              "      <td>...</td>\n",
              "      <td>...</td>\n",
              "      <td>...</td>\n",
              "      <td>...</td>\n",
              "      <td>...</td>\n",
              "    </tr>\n",
              "    <tr>\n",
              "      <th>7823</th>\n",
              "      <td>2019-12-30</td>\n",
              "      <td>56200</td>\n",
              "      <td>56600</td>\n",
              "      <td>55700</td>\n",
              "      <td>55800</td>\n",
              "      <td>8356767</td>\n",
              "      <td>2019</td>\n",
              "      <td>12</td>\n",
              "      <td>30</td>\n",
              "    </tr>\n",
              "    <tr>\n",
              "      <th>7824</th>\n",
              "      <td>2020-01-02</td>\n",
              "      <td>55500</td>\n",
              "      <td>56000</td>\n",
              "      <td>55000</td>\n",
              "      <td>55200</td>\n",
              "      <td>12993228</td>\n",
              "      <td>2020</td>\n",
              "      <td>1</td>\n",
              "      <td>2</td>\n",
              "    </tr>\n",
              "    <tr>\n",
              "      <th>7825</th>\n",
              "      <td>2020-01-03</td>\n",
              "      <td>56000</td>\n",
              "      <td>56600</td>\n",
              "      <td>54900</td>\n",
              "      <td>55500</td>\n",
              "      <td>15422255</td>\n",
              "      <td>2020</td>\n",
              "      <td>1</td>\n",
              "      <td>3</td>\n",
              "    </tr>\n",
              "    <tr>\n",
              "      <th>7826</th>\n",
              "      <td>2020-01-06</td>\n",
              "      <td>54900</td>\n",
              "      <td>55600</td>\n",
              "      <td>54600</td>\n",
              "      <td>55500</td>\n",
              "      <td>10278951</td>\n",
              "      <td>2020</td>\n",
              "      <td>1</td>\n",
              "      <td>6</td>\n",
              "    </tr>\n",
              "    <tr>\n",
              "      <th>7827</th>\n",
              "      <td>2020-01-07</td>\n",
              "      <td>55700</td>\n",
              "      <td>56400</td>\n",
              "      <td>55600</td>\n",
              "      <td>55800</td>\n",
              "      <td>9893846</td>\n",
              "      <td>2020</td>\n",
              "      <td>1</td>\n",
              "      <td>7</td>\n",
              "    </tr>\n",
              "  </tbody>\n",
              "</table>\n",
              "<p>7828 rows × 9 columns</p>\n",
              "</div>"
            ],
            "text/plain": [
              "             일자     시가     고가     저가     종가       거래량    연도   월   일\n",
              "0    1990-01-03    673    689    661    685   1715032  1990   1   3\n",
              "1    1990-01-04    689    701    685    693   2738562  1990   1   4\n",
              "2    1990-01-05    689    693    678    678   1790849  1990   1   5\n",
              "3    1990-01-06    685    689    681    681   1724183  1990   1   6\n",
              "4    1990-01-08    681    687    673    673    966666  1990   1   8\n",
              "...         ...    ...    ...    ...    ...       ...   ...  ..  ..\n",
              "7823 2019-12-30  56200  56600  55700  55800   8356767  2019  12  30\n",
              "7824 2020-01-02  55500  56000  55000  55200  12993228  2020   1   2\n",
              "7825 2020-01-03  56000  56600  54900  55500  15422255  2020   1   3\n",
              "7826 2020-01-06  54900  55600  54600  55500  10278951  2020   1   6\n",
              "7827 2020-01-07  55700  56400  55600  55800   9893846  2020   1   7\n",
              "\n",
              "[7828 rows x 9 columns]"
            ]
          },
          "metadata": {
            "tags": []
          },
          "execution_count": 19
        }
      ]
    },
    {
      "cell_type": "code",
      "metadata": {
        "id": "4-4PgRMZ0l5Q",
        "colab_type": "code",
        "colab": {}
      },
      "source": [
        "from sklearn.preprocessing import MinMaxScaler"
      ],
      "execution_count": 0,
      "outputs": []
    },
    {
      "cell_type": "code",
      "metadata": {
        "id": "6DfUvdeI0l5a",
        "colab_type": "code",
        "colab": {}
      },
      "source": [
        "scaler = MinMaxScaler()"
      ],
      "execution_count": 0,
      "outputs": []
    },
    {
      "cell_type": "code",
      "metadata": {
        "id": "dIJjE21B0l5m",
        "colab_type": "code",
        "colab": {}
      },
      "source": [
        "scale_cols = ['시가', '고가', '저가', '종가', '거래량']"
      ],
      "execution_count": 0,
      "outputs": []
    },
    {
      "cell_type": "code",
      "metadata": {
        "id": "o0-BhJN_0l5v",
        "colab_type": "code",
        "colab": {}
      },
      "source": [
        "df_scaled = scaler.fit_transform(df[scale_cols])"
      ],
      "execution_count": 0,
      "outputs": []
    },
    {
      "cell_type": "code",
      "metadata": {
        "id": "Qpp3mQcW0l52",
        "colab_type": "code",
        "colab": {}
      },
      "source": [
        "df_scaled = pd.DataFrame(df_scaled)\n",
        "df_scaled.columns = scale_cols"
      ],
      "execution_count": 0,
      "outputs": []
    },
    {
      "cell_type": "code",
      "metadata": {
        "id": "Iza1lZKp0l58",
        "colab_type": "code",
        "outputId": "46ecfb9a-4adf-46ad-c5b3-1b89e68fe481",
        "colab": {
          "base_uri": "https://localhost:8080/",
          "height": 407
        }
      },
      "source": [
        "df_scaled"
      ],
      "execution_count": 25,
      "outputs": [
        {
          "output_type": "execute_result",
          "data": {
            "text/html": [
              "<div>\n",
              "<style scoped>\n",
              "    .dataframe tbody tr th:only-of-type {\n",
              "        vertical-align: middle;\n",
              "    }\n",
              "\n",
              "    .dataframe tbody tr th {\n",
              "        vertical-align: top;\n",
              "    }\n",
              "\n",
              "    .dataframe thead th {\n",
              "        text-align: right;\n",
              "    }\n",
              "</style>\n",
              "<table border=\"1\" class=\"dataframe\">\n",
              "  <thead>\n",
              "    <tr style=\"text-align: right;\">\n",
              "      <th></th>\n",
              "      <th>시가</th>\n",
              "      <th>고가</th>\n",
              "      <th>저가</th>\n",
              "      <th>종가</th>\n",
              "      <th>거래량</th>\n",
              "    </tr>\n",
              "  </thead>\n",
              "  <tbody>\n",
              "    <tr>\n",
              "      <th>0</th>\n",
              "      <td>0.004955</td>\n",
              "      <td>0.005129</td>\n",
              "      <td>0.004860</td>\n",
              "      <td>0.005138</td>\n",
              "      <td>0.005251</td>\n",
              "    </tr>\n",
              "    <tr>\n",
              "      <th>1</th>\n",
              "      <td>0.005236</td>\n",
              "      <td>0.005339</td>\n",
              "      <td>0.005286</td>\n",
              "      <td>0.005279</td>\n",
              "      <td>0.008384</td>\n",
              "    </tr>\n",
              "    <tr>\n",
              "      <th>2</th>\n",
              "      <td>0.005236</td>\n",
              "      <td>0.005199</td>\n",
              "      <td>0.005162</td>\n",
              "      <td>0.005015</td>\n",
              "      <td>0.005483</td>\n",
              "    </tr>\n",
              "    <tr>\n",
              "      <th>3</th>\n",
              "      <td>0.005165</td>\n",
              "      <td>0.005129</td>\n",
              "      <td>0.005215</td>\n",
              "      <td>0.005068</td>\n",
              "      <td>0.005279</td>\n",
              "    </tr>\n",
              "    <tr>\n",
              "      <th>4</th>\n",
              "      <td>0.005095</td>\n",
              "      <td>0.005094</td>\n",
              "      <td>0.005073</td>\n",
              "      <td>0.004927</td>\n",
              "      <td>0.002960</td>\n",
              "    </tr>\n",
              "    <tr>\n",
              "      <th>...</th>\n",
              "      <td>...</td>\n",
              "      <td>...</td>\n",
              "      <td>...</td>\n",
              "      <td>...</td>\n",
              "      <td>...</td>\n",
              "    </tr>\n",
              "    <tr>\n",
              "      <th>7823</th>\n",
              "      <td>0.977237</td>\n",
              "      <td>0.983895</td>\n",
              "      <td>0.981197</td>\n",
              "      <td>0.975012</td>\n",
              "      <td>0.025585</td>\n",
              "    </tr>\n",
              "    <tr>\n",
              "      <th>7824</th>\n",
              "      <td>0.964980</td>\n",
              "      <td>0.973391</td>\n",
              "      <td>0.968779</td>\n",
              "      <td>0.964454</td>\n",
              "      <td>0.039781</td>\n",
              "    </tr>\n",
              "    <tr>\n",
              "      <th>7825</th>\n",
              "      <td>0.973735</td>\n",
              "      <td>0.983895</td>\n",
              "      <td>0.967005</td>\n",
              "      <td>0.969733</td>\n",
              "      <td>0.047217</td>\n",
              "    </tr>\n",
              "    <tr>\n",
              "      <th>7826</th>\n",
              "      <td>0.954474</td>\n",
              "      <td>0.966389</td>\n",
              "      <td>0.961684</td>\n",
              "      <td>0.969733</td>\n",
              "      <td>0.031470</td>\n",
              "    </tr>\n",
              "    <tr>\n",
              "      <th>7827</th>\n",
              "      <td>0.968482</td>\n",
              "      <td>0.980394</td>\n",
              "      <td>0.979423</td>\n",
              "      <td>0.975012</td>\n",
              "      <td>0.030291</td>\n",
              "    </tr>\n",
              "  </tbody>\n",
              "</table>\n",
              "<p>7828 rows × 5 columns</p>\n",
              "</div>"
            ],
            "text/plain": [
              "            시가        고가        저가        종가       거래량\n",
              "0     0.004955  0.005129  0.004860  0.005138  0.005251\n",
              "1     0.005236  0.005339  0.005286  0.005279  0.008384\n",
              "2     0.005236  0.005199  0.005162  0.005015  0.005483\n",
              "3     0.005165  0.005129  0.005215  0.005068  0.005279\n",
              "4     0.005095  0.005094  0.005073  0.004927  0.002960\n",
              "...        ...       ...       ...       ...       ...\n",
              "7823  0.977237  0.983895  0.981197  0.975012  0.025585\n",
              "7824  0.964980  0.973391  0.968779  0.964454  0.039781\n",
              "7825  0.973735  0.983895  0.967005  0.969733  0.047217\n",
              "7826  0.954474  0.966389  0.961684  0.969733  0.031470\n",
              "7827  0.968482  0.980394  0.979423  0.975012  0.030291\n",
              "\n",
              "[7828 rows x 5 columns]"
            ]
          },
          "metadata": {
            "tags": []
          },
          "execution_count": 25
        }
      ]
    },
    {
      "cell_type": "markdown",
      "metadata": {
        "id": "fBF9kh_W0l6I",
        "colab_type": "text"
      },
      "source": [
        "## train, test 사이즈 정의"
      ]
    },
    {
      "cell_type": "code",
      "metadata": {
        "id": "SUyKz_-30l6L",
        "colab_type": "code",
        "colab": {}
      },
      "source": [
        "TEST_SIZE = 200\n",
        "WINDOW_SIZE = 20"
      ],
      "execution_count": 0,
      "outputs": []
    },
    {
      "cell_type": "code",
      "metadata": {
        "id": "wIqjdibD0l6S",
        "colab_type": "code",
        "outputId": "c7c5d9f3-0aed-4a16-ca72-ac9fdc82d7e5",
        "colab": {
          "base_uri": "https://localhost:8080/",
          "height": 407
        }
      },
      "source": [
        "train = df_scaled[:-TEST_SIZE]\n",
        "train"
      ],
      "execution_count": 27,
      "outputs": [
        {
          "output_type": "execute_result",
          "data": {
            "text/html": [
              "<div>\n",
              "<style scoped>\n",
              "    .dataframe tbody tr th:only-of-type {\n",
              "        vertical-align: middle;\n",
              "    }\n",
              "\n",
              "    .dataframe tbody tr th {\n",
              "        vertical-align: top;\n",
              "    }\n",
              "\n",
              "    .dataframe thead th {\n",
              "        text-align: right;\n",
              "    }\n",
              "</style>\n",
              "<table border=\"1\" class=\"dataframe\">\n",
              "  <thead>\n",
              "    <tr style=\"text-align: right;\">\n",
              "      <th></th>\n",
              "      <th>시가</th>\n",
              "      <th>고가</th>\n",
              "      <th>저가</th>\n",
              "      <th>종가</th>\n",
              "      <th>거래량</th>\n",
              "    </tr>\n",
              "  </thead>\n",
              "  <tbody>\n",
              "    <tr>\n",
              "      <th>0</th>\n",
              "      <td>0.004955</td>\n",
              "      <td>0.005129</td>\n",
              "      <td>0.004860</td>\n",
              "      <td>0.005138</td>\n",
              "      <td>0.005251</td>\n",
              "    </tr>\n",
              "    <tr>\n",
              "      <th>1</th>\n",
              "      <td>0.005236</td>\n",
              "      <td>0.005339</td>\n",
              "      <td>0.005286</td>\n",
              "      <td>0.005279</td>\n",
              "      <td>0.008384</td>\n",
              "    </tr>\n",
              "    <tr>\n",
              "      <th>2</th>\n",
              "      <td>0.005236</td>\n",
              "      <td>0.005199</td>\n",
              "      <td>0.005162</td>\n",
              "      <td>0.005015</td>\n",
              "      <td>0.005483</td>\n",
              "    </tr>\n",
              "    <tr>\n",
              "      <th>3</th>\n",
              "      <td>0.005165</td>\n",
              "      <td>0.005129</td>\n",
              "      <td>0.005215</td>\n",
              "      <td>0.005068</td>\n",
              "      <td>0.005279</td>\n",
              "    </tr>\n",
              "    <tr>\n",
              "      <th>4</th>\n",
              "      <td>0.005095</td>\n",
              "      <td>0.005094</td>\n",
              "      <td>0.005073</td>\n",
              "      <td>0.004927</td>\n",
              "      <td>0.002960</td>\n",
              "    </tr>\n",
              "    <tr>\n",
              "      <th>...</th>\n",
              "      <td>...</td>\n",
              "      <td>...</td>\n",
              "      <td>...</td>\n",
              "      <td>...</td>\n",
              "      <td>...</td>\n",
              "    </tr>\n",
              "    <tr>\n",
              "      <th>7623</th>\n",
              "      <td>0.768867</td>\n",
              "      <td>0.779952</td>\n",
              "      <td>0.776311</td>\n",
              "      <td>0.778802</td>\n",
              "      <td>0.035001</td>\n",
              "    </tr>\n",
              "    <tr>\n",
              "      <th>7624</th>\n",
              "      <td>0.767992</td>\n",
              "      <td>0.771199</td>\n",
              "      <td>0.768329</td>\n",
              "      <td>0.764725</td>\n",
              "      <td>0.024825</td>\n",
              "    </tr>\n",
              "    <tr>\n",
              "      <th>7625</th>\n",
              "      <td>0.758361</td>\n",
              "      <td>0.768574</td>\n",
              "      <td>0.765668</td>\n",
              "      <td>0.764725</td>\n",
              "      <td>0.055229</td>\n",
              "    </tr>\n",
              "    <tr>\n",
              "      <th>7626</th>\n",
              "      <td>0.760112</td>\n",
              "      <td>0.767698</td>\n",
              "      <td>0.768329</td>\n",
              "      <td>0.770884</td>\n",
              "      <td>0.051479</td>\n",
              "    </tr>\n",
              "    <tr>\n",
              "      <th>7627</th>\n",
              "      <td>0.762739</td>\n",
              "      <td>0.765948</td>\n",
              "      <td>0.763894</td>\n",
              "      <td>0.762085</td>\n",
              "      <td>0.025071</td>\n",
              "    </tr>\n",
              "  </tbody>\n",
              "</table>\n",
              "<p>7628 rows × 5 columns</p>\n",
              "</div>"
            ],
            "text/plain": [
              "            시가        고가        저가        종가       거래량\n",
              "0     0.004955  0.005129  0.004860  0.005138  0.005251\n",
              "1     0.005236  0.005339  0.005286  0.005279  0.008384\n",
              "2     0.005236  0.005199  0.005162  0.005015  0.005483\n",
              "3     0.005165  0.005129  0.005215  0.005068  0.005279\n",
              "4     0.005095  0.005094  0.005073  0.004927  0.002960\n",
              "...        ...       ...       ...       ...       ...\n",
              "7623  0.768867  0.779952  0.776311  0.778802  0.035001\n",
              "7624  0.767992  0.771199  0.768329  0.764725  0.024825\n",
              "7625  0.758361  0.768574  0.765668  0.764725  0.055229\n",
              "7626  0.760112  0.767698  0.768329  0.770884  0.051479\n",
              "7627  0.762739  0.765948  0.763894  0.762085  0.025071\n",
              "\n",
              "[7628 rows x 5 columns]"
            ]
          },
          "metadata": {
            "tags": []
          },
          "execution_count": 27
        }
      ]
    },
    {
      "cell_type": "code",
      "metadata": {
        "id": "DQKeeaFz0l6c",
        "colab_type": "code",
        "outputId": "54b61e00-d5fc-47db-c4a6-66a9b842f244",
        "colab": {
          "base_uri": "https://localhost:8080/",
          "height": 198
        }
      },
      "source": [
        "test = df_scaled[-TEST_SIZE:]\n",
        "test.head()"
      ],
      "execution_count": 28,
      "outputs": [
        {
          "output_type": "execute_result",
          "data": {
            "text/html": [
              "<div>\n",
              "<style scoped>\n",
              "    .dataframe tbody tr th:only-of-type {\n",
              "        vertical-align: middle;\n",
              "    }\n",
              "\n",
              "    .dataframe tbody tr th {\n",
              "        vertical-align: top;\n",
              "    }\n",
              "\n",
              "    .dataframe thead th {\n",
              "        text-align: right;\n",
              "    }\n",
              "</style>\n",
              "<table border=\"1\" class=\"dataframe\">\n",
              "  <thead>\n",
              "    <tr style=\"text-align: right;\">\n",
              "      <th></th>\n",
              "      <th>시가</th>\n",
              "      <th>고가</th>\n",
              "      <th>저가</th>\n",
              "      <th>종가</th>\n",
              "      <th>거래량</th>\n",
              "    </tr>\n",
              "  </thead>\n",
              "  <tbody>\n",
              "    <tr>\n",
              "      <th>7628</th>\n",
              "      <td>0.759237</td>\n",
              "      <td>0.761571</td>\n",
              "      <td>0.765668</td>\n",
              "      <td>0.765604</td>\n",
              "      <td>0.023298</td>\n",
              "    </tr>\n",
              "    <tr>\n",
              "      <th>7629</th>\n",
              "      <td>0.760112</td>\n",
              "      <td>0.766823</td>\n",
              "      <td>0.757685</td>\n",
              "      <td>0.768244</td>\n",
              "      <td>0.030146</td>\n",
              "    </tr>\n",
              "    <tr>\n",
              "      <th>7630</th>\n",
              "      <td>0.774120</td>\n",
              "      <td>0.802710</td>\n",
              "      <td>0.774537</td>\n",
              "      <td>0.799919</td>\n",
              "      <td>0.064717</td>\n",
              "    </tr>\n",
              "    <tr>\n",
              "      <th>7631</th>\n",
              "      <td>0.813518</td>\n",
              "      <td>0.815839</td>\n",
              "      <td>0.813563</td>\n",
              "      <td>0.812237</td>\n",
              "      <td>0.038380</td>\n",
              "    </tr>\n",
              "    <tr>\n",
              "      <th>7632</th>\n",
              "      <td>0.786377</td>\n",
              "      <td>0.792206</td>\n",
              "      <td>0.787842</td>\n",
              "      <td>0.793760</td>\n",
              "      <td>0.026635</td>\n",
              "    </tr>\n",
              "  </tbody>\n",
              "</table>\n",
              "</div>"
            ],
            "text/plain": [
              "            시가        고가        저가        종가       거래량\n",
              "7628  0.759237  0.761571  0.765668  0.765604  0.023298\n",
              "7629  0.760112  0.766823  0.757685  0.768244  0.030146\n",
              "7630  0.774120  0.802710  0.774537  0.799919  0.064717\n",
              "7631  0.813518  0.815839  0.813563  0.812237  0.038380\n",
              "7632  0.786377  0.792206  0.787842  0.793760  0.026635"
            ]
          },
          "metadata": {
            "tags": []
          },
          "execution_count": 28
        }
      ]
    },
    {
      "cell_type": "code",
      "metadata": {
        "id": "hmWOUQ8c0l6i",
        "colab_type": "code",
        "colab": {}
      },
      "source": [
        "def make_dataset(data, label, window_size=20):\n",
        "    feature_list = []\n",
        "    label_list = []\n",
        "    for i in range(len(data) - window_size):\n",
        "        feature_list.append(np.array(data.iloc[i:i+window_size]))\n",
        "        label_list.append(np.array(label.iloc[i+window_size]))\n",
        "    return np.array(feature_list), np.array(label_list)"
      ],
      "execution_count": 0,
      "outputs": []
    },
    {
      "cell_type": "code",
      "metadata": {
        "id": "En2L8tnM0l65",
        "colab_type": "code",
        "colab": {}
      },
      "source": [
        "feature_cols = ['시가', '고가', '저가', '거래량']\n",
        "label_cols = ['종가']"
      ],
      "execution_count": 0,
      "outputs": []
    },
    {
      "cell_type": "code",
      "metadata": {
        "id": "DJvYu-ob0l7A",
        "colab_type": "code",
        "colab": {}
      },
      "source": [
        "train_feature = train[feature_cols]\n",
        "train_label = train[label_cols]"
      ],
      "execution_count": 0,
      "outputs": []
    },
    {
      "cell_type": "code",
      "metadata": {
        "id": "EvMucAhy0l7G",
        "colab_type": "code",
        "colab": {}
      },
      "source": [
        "train_feature, train_label = make_dataset(train_feature, train_label, 20)"
      ],
      "execution_count": 0,
      "outputs": []
    },
    {
      "cell_type": "code",
      "metadata": {
        "id": "yzzbOAlS0l7a",
        "colab_type": "code",
        "colab": {}
      },
      "source": [
        "from sklearn.model_selection import train_test_split"
      ],
      "execution_count": 0,
      "outputs": []
    },
    {
      "cell_type": "code",
      "metadata": {
        "id": "OFk2TJ_u0l7h",
        "colab_type": "code",
        "colab": {}
      },
      "source": [
        "x_train, x_valid, y_train, y_valid = train_test_split(train_feature, train_label, test_size=0.2)"
      ],
      "execution_count": 0,
      "outputs": []
    },
    {
      "cell_type": "code",
      "metadata": {
        "id": "W9ggqoK80l7o",
        "colab_type": "code",
        "outputId": "bd104b89-5347-4cdb-d2bd-eb2e8aa17b63",
        "colab": {
          "base_uri": "https://localhost:8080/",
          "height": 35
        }
      },
      "source": [
        "x_train.shape, x_valid.shape"
      ],
      "execution_count": 35,
      "outputs": [
        {
          "output_type": "execute_result",
          "data": {
            "text/plain": [
              "((6086, 20, 4), (1522, 20, 4))"
            ]
          },
          "metadata": {
            "tags": []
          },
          "execution_count": 35
        }
      ]
    },
    {
      "cell_type": "code",
      "metadata": {
        "id": "wSJ8fZyi0l7x",
        "colab_type": "code",
        "colab": {}
      },
      "source": [
        " "
      ],
      "execution_count": 0,
      "outputs": []
    },
    {
      "cell_type": "code",
      "metadata": {
        "id": "UnXFJzMM0l73",
        "colab_type": "code",
        "colab": {}
      },
      "source": [
        "test_feature = test[feature_cols]\n",
        "test_label = test[label_cols]"
      ],
      "execution_count": 0,
      "outputs": []
    },
    {
      "cell_type": "code",
      "metadata": {
        "id": "xNf6pNIg0l79",
        "colab_type": "code",
        "outputId": "c2adc150-97aa-4a87-a6f0-2399d9372bb3",
        "colab": {
          "base_uri": "https://localhost:8080/",
          "height": 35
        }
      },
      "source": [
        "test_feature.shape, test_label.shape"
      ],
      "execution_count": 37,
      "outputs": [
        {
          "output_type": "execute_result",
          "data": {
            "text/plain": [
              "((200, 4), (200, 1))"
            ]
          },
          "metadata": {
            "tags": []
          },
          "execution_count": 37
        }
      ]
    },
    {
      "cell_type": "code",
      "metadata": {
        "id": "KK90whkn0l8D",
        "colab_type": "code",
        "colab": {}
      },
      "source": [
        "test_feature, test_label = make_dataset(test_feature, test_label, 20)"
      ],
      "execution_count": 0,
      "outputs": []
    },
    {
      "cell_type": "code",
      "metadata": {
        "id": "9aQsbFoV0l8I",
        "colab_type": "code",
        "outputId": "1a86a0f3-3a5f-4702-bf00-5d9329532297",
        "colab": {
          "base_uri": "https://localhost:8080/",
          "height": 35
        }
      },
      "source": [
        "test_feature.shape, test_label.shape"
      ],
      "execution_count": 39,
      "outputs": [
        {
          "output_type": "execute_result",
          "data": {
            "text/plain": [
              "((180, 20, 4), (180, 1))"
            ]
          },
          "metadata": {
            "tags": []
          },
          "execution_count": 39
        }
      ]
    },
    {
      "cell_type": "code",
      "metadata": {
        "id": "jBfSjhK526BQ",
        "colab_type": "code",
        "outputId": "cfead83d-c9b8-42ed-956f-fd5d295a1ac2",
        "colab": {
          "base_uri": "https://localhost:8080/",
          "height": 35
        }
      },
      "source": [
        "train_feature.shape[1], train_feature.shape[0]"
      ],
      "execution_count": 40,
      "outputs": [
        {
          "output_type": "execute_result",
          "data": {
            "text/plain": [
              "(20, 7608)"
            ]
          },
          "metadata": {
            "tags": []
          },
          "execution_count": 40
        }
      ]
    },
    {
      "cell_type": "code",
      "metadata": {
        "id": "mAkmGu1j0l8M",
        "colab_type": "code",
        "outputId": "85fc9629-8a06-4704-c644-124071e354ab",
        "colab": {
          "base_uri": "https://localhost:8080/",
          "height": 192
        }
      },
      "source": [
        "from keras.models import Sequential\n",
        "from keras.layers import Dense\n",
        "from keras.callbacks import EarlyStopping, ModelCheckpoint\n",
        "from keras.layers import LSTM\n",
        "\n",
        "model = Sequential()\n",
        "model.add(LSTM(16, \n",
        "               input_shape=(train_feature.shape[1], train_feature.shape[2]), \n",
        "               activation='relu', \n",
        "               return_sequences=False)\n",
        "          )\n",
        "# model.add(LSTM(16, return_sequences=False))\n",
        "# model.add(Dense(16, activation='linear'))\n",
        "model.add(Dense(1))"
      ],
      "execution_count": 41,
      "outputs": [
        {
          "output_type": "stream",
          "text": [
            "Using TensorFlow backend.\n"
          ],
          "name": "stderr"
        },
        {
          "output_type": "display_data",
          "data": {
            "text/html": [
              "<p style=\"color: red;\">\n",
              "The default version of TensorFlow in Colab will soon switch to TensorFlow 2.x.<br>\n",
              "We recommend you <a href=\"https://www.tensorflow.org/guide/migrate\" target=\"_blank\">upgrade</a> now \n",
              "or ensure your notebook will continue to use TensorFlow 1.x via the <code>%tensorflow_version 1.x</code> magic:\n",
              "<a href=\"https://colab.research.google.com/notebooks/tensorflow_version.ipynb\" target=\"_blank\">more info</a>.</p>\n"
            ],
            "text/plain": [
              "<IPython.core.display.HTML object>"
            ]
          },
          "metadata": {
            "tags": []
          }
        },
        {
          "output_type": "stream",
          "text": [
            "WARNING:tensorflow:From /usr/local/lib/python3.6/dist-packages/keras/backend/tensorflow_backend.py:66: The name tf.get_default_graph is deprecated. Please use tf.compat.v1.get_default_graph instead.\n",
            "\n",
            "WARNING:tensorflow:From /usr/local/lib/python3.6/dist-packages/keras/backend/tensorflow_backend.py:541: The name tf.placeholder is deprecated. Please use tf.compat.v1.placeholder instead.\n",
            "\n",
            "WARNING:tensorflow:From /usr/local/lib/python3.6/dist-packages/keras/backend/tensorflow_backend.py:4432: The name tf.random_uniform is deprecated. Please use tf.random.uniform instead.\n",
            "\n"
          ],
          "name": "stdout"
        }
      ]
    },
    {
      "cell_type": "code",
      "metadata": {
        "id": "xShll_EX0l8T",
        "colab_type": "code",
        "outputId": "522fff00-b86d-4866-fd81-5bc705d751c2",
        "colab": {
          "base_uri": "https://localhost:8080/",
          "height": 1000
        }
      },
      "source": [
        "model.compile(loss='mean_squared_error', optimizer='adam')\n",
        "early_stop = EarlyStopping(monitor='val_loss', patience=5)\n",
        "filename = os.path.join(model_path, 'tmp_checkpoint.h5')\n",
        "checkpoint = ModelCheckpoint(filename, monitor='val_loss', verbose=1, save_best_only=True, mode='auto')\n",
        "\n",
        "history = model.fit(x_train, y_train, \n",
        "                                    epochs=200, \n",
        "                                    batch_size=16,\n",
        "                                    validation_data=(x_valid, y_valid), \n",
        "                                    callbacks=[early_stop, checkpoint])"
      ],
      "execution_count": 42,
      "outputs": [
        {
          "output_type": "stream",
          "text": [
            "WARNING:tensorflow:From /usr/local/lib/python3.6/dist-packages/keras/optimizers.py:793: The name tf.train.Optimizer is deprecated. Please use tf.compat.v1.train.Optimizer instead.\n",
            "\n",
            "WARNING:tensorflow:From /usr/local/lib/python3.6/dist-packages/tensorflow_core/python/ops/math_grad.py:1424: where (from tensorflow.python.ops.array_ops) is deprecated and will be removed in a future version.\n",
            "Instructions for updating:\n",
            "Use tf.where in 2.0, which has the same broadcast rule as np.where\n",
            "WARNING:tensorflow:From /usr/local/lib/python3.6/dist-packages/keras/backend/tensorflow_backend.py:1033: The name tf.assign_add is deprecated. Please use tf.compat.v1.assign_add instead.\n",
            "\n",
            "WARNING:tensorflow:From /usr/local/lib/python3.6/dist-packages/keras/backend/tensorflow_backend.py:1020: The name tf.assign is deprecated. Please use tf.compat.v1.assign instead.\n",
            "\n",
            "WARNING:tensorflow:From /usr/local/lib/python3.6/dist-packages/keras/backend/tensorflow_backend.py:3005: The name tf.Session is deprecated. Please use tf.compat.v1.Session instead.\n",
            "\n",
            "Train on 6086 samples, validate on 1522 samples\n",
            "Epoch 1/200\n",
            "WARNING:tensorflow:From /usr/local/lib/python3.6/dist-packages/keras/backend/tensorflow_backend.py:190: The name tf.get_default_session is deprecated. Please use tf.compat.v1.get_default_session instead.\n",
            "\n",
            "WARNING:tensorflow:From /usr/local/lib/python3.6/dist-packages/keras/backend/tensorflow_backend.py:197: The name tf.ConfigProto is deprecated. Please use tf.compat.v1.ConfigProto instead.\n",
            "\n",
            "WARNING:tensorflow:From /usr/local/lib/python3.6/dist-packages/keras/backend/tensorflow_backend.py:207: The name tf.global_variables is deprecated. Please use tf.compat.v1.global_variables instead.\n",
            "\n",
            "WARNING:tensorflow:From /usr/local/lib/python3.6/dist-packages/keras/backend/tensorflow_backend.py:216: The name tf.is_variable_initialized is deprecated. Please use tf.compat.v1.is_variable_initialized instead.\n",
            "\n",
            "WARNING:tensorflow:From /usr/local/lib/python3.6/dist-packages/keras/backend/tensorflow_backend.py:223: The name tf.variables_initializer is deprecated. Please use tf.compat.v1.variables_initializer instead.\n",
            "\n",
            "6086/6086 [==============================] - 23s 4ms/step - loss: 0.0030 - val_loss: 1.0960e-04\n",
            "\n",
            "Epoch 00001: val_loss improved from inf to 0.00011, saving model to /content/drive/My Drive/Colab Notebooks/03-stock-samsung/model/tmp_checkpoint.h5\n",
            "Epoch 2/200\n",
            "6086/6086 [==============================] - 13s 2ms/step - loss: 1.0708e-04 - val_loss: 1.0215e-04\n",
            "\n",
            "Epoch 00002: val_loss improved from 0.00011 to 0.00010, saving model to /content/drive/My Drive/Colab Notebooks/03-stock-samsung/model/tmp_checkpoint.h5\n",
            "Epoch 3/200\n",
            "6086/6086 [==============================] - 13s 2ms/step - loss: 9.6912e-05 - val_loss: 1.1146e-04\n",
            "\n",
            "Epoch 00003: val_loss did not improve from 0.00010\n",
            "Epoch 4/200\n",
            "6086/6086 [==============================] - 13s 2ms/step - loss: 9.2579e-05 - val_loss: 9.3685e-05\n",
            "\n",
            "Epoch 00004: val_loss improved from 0.00010 to 0.00009, saving model to /content/drive/My Drive/Colab Notebooks/03-stock-samsung/model/tmp_checkpoint.h5\n",
            "Epoch 5/200\n",
            "6086/6086 [==============================] - 13s 2ms/step - loss: 8.7080e-05 - val_loss: 7.8300e-05\n",
            "\n",
            "Epoch 00005: val_loss improved from 0.00009 to 0.00008, saving model to /content/drive/My Drive/Colab Notebooks/03-stock-samsung/model/tmp_checkpoint.h5\n",
            "Epoch 6/200\n",
            "6086/6086 [==============================] - 13s 2ms/step - loss: 8.5239e-05 - val_loss: 6.7357e-05\n",
            "\n",
            "Epoch 00006: val_loss improved from 0.00008 to 0.00007, saving model to /content/drive/My Drive/Colab Notebooks/03-stock-samsung/model/tmp_checkpoint.h5\n",
            "Epoch 7/200\n",
            "6086/6086 [==============================] - 13s 2ms/step - loss: 8.3984e-05 - val_loss: 7.2163e-05\n",
            "\n",
            "Epoch 00007: val_loss did not improve from 0.00007\n",
            "Epoch 8/200\n",
            "6086/6086 [==============================] - 12s 2ms/step - loss: 7.8821e-05 - val_loss: 1.1928e-04\n",
            "\n",
            "Epoch 00008: val_loss did not improve from 0.00007\n",
            "Epoch 9/200\n",
            "6086/6086 [==============================] - 12s 2ms/step - loss: 7.1944e-05 - val_loss: 6.1163e-05\n",
            "\n",
            "Epoch 00009: val_loss improved from 0.00007 to 0.00006, saving model to /content/drive/My Drive/Colab Notebooks/03-stock-samsung/model/tmp_checkpoint.h5\n",
            "Epoch 10/200\n",
            "6086/6086 [==============================] - 12s 2ms/step - loss: 6.7768e-05 - val_loss: 9.8321e-05\n",
            "\n",
            "Epoch 00010: val_loss did not improve from 0.00006\n",
            "Epoch 11/200\n",
            "6086/6086 [==============================] - 12s 2ms/step - loss: 6.6246e-05 - val_loss: 5.9567e-05\n",
            "\n",
            "Epoch 00011: val_loss improved from 0.00006 to 0.00006, saving model to /content/drive/My Drive/Colab Notebooks/03-stock-samsung/model/tmp_checkpoint.h5\n",
            "Epoch 12/200\n",
            "6086/6086 [==============================] - 12s 2ms/step - loss: 6.9680e-05 - val_loss: 9.5707e-05\n",
            "\n",
            "Epoch 00012: val_loss did not improve from 0.00006\n",
            "Epoch 13/200\n",
            "6086/6086 [==============================] - 12s 2ms/step - loss: 6.7789e-05 - val_loss: 5.8716e-05\n",
            "\n",
            "Epoch 00013: val_loss improved from 0.00006 to 0.00006, saving model to /content/drive/My Drive/Colab Notebooks/03-stock-samsung/model/tmp_checkpoint.h5\n",
            "Epoch 14/200\n",
            "6086/6086 [==============================] - 12s 2ms/step - loss: 6.4143e-05 - val_loss: 5.2237e-05\n",
            "\n",
            "Epoch 00014: val_loss improved from 0.00006 to 0.00005, saving model to /content/drive/My Drive/Colab Notebooks/03-stock-samsung/model/tmp_checkpoint.h5\n",
            "Epoch 15/200\n",
            "6086/6086 [==============================] - 12s 2ms/step - loss: 6.0962e-05 - val_loss: 5.7683e-05\n",
            "\n",
            "Epoch 00015: val_loss did not improve from 0.00005\n",
            "Epoch 16/200\n",
            "6086/6086 [==============================] - 12s 2ms/step - loss: 6.3338e-05 - val_loss: 5.2296e-05\n",
            "\n",
            "Epoch 00016: val_loss did not improve from 0.00005\n",
            "Epoch 17/200\n",
            "6086/6086 [==============================] - 12s 2ms/step - loss: 5.9418e-05 - val_loss: 6.7466e-05\n",
            "\n",
            "Epoch 00017: val_loss did not improve from 0.00005\n",
            "Epoch 18/200\n",
            "6086/6086 [==============================] - 12s 2ms/step - loss: 5.8563e-05 - val_loss: 5.2354e-05\n",
            "\n",
            "Epoch 00018: val_loss did not improve from 0.00005\n",
            "Epoch 19/200\n",
            "6086/6086 [==============================] - 12s 2ms/step - loss: 6.0462e-05 - val_loss: 4.9917e-05\n",
            "\n",
            "Epoch 00019: val_loss improved from 0.00005 to 0.00005, saving model to /content/drive/My Drive/Colab Notebooks/03-stock-samsung/model/tmp_checkpoint.h5\n",
            "Epoch 20/200\n",
            "6086/6086 [==============================] - 12s 2ms/step - loss: 5.7821e-05 - val_loss: 9.5920e-05\n",
            "\n",
            "Epoch 00020: val_loss did not improve from 0.00005\n",
            "Epoch 21/200\n",
            "6086/6086 [==============================] - 12s 2ms/step - loss: 5.7508e-05 - val_loss: 7.4235e-05\n",
            "\n",
            "Epoch 00021: val_loss did not improve from 0.00005\n",
            "Epoch 22/200\n",
            "6086/6086 [==============================] - 12s 2ms/step - loss: 5.7797e-05 - val_loss: 5.0408e-05\n",
            "\n",
            "Epoch 00022: val_loss did not improve from 0.00005\n",
            "Epoch 23/200\n",
            "6086/6086 [==============================] - 12s 2ms/step - loss: 5.9920e-05 - val_loss: 6.2247e-05\n",
            "\n",
            "Epoch 00023: val_loss did not improve from 0.00005\n",
            "Epoch 24/200\n",
            "6086/6086 [==============================] - 12s 2ms/step - loss: 5.2042e-05 - val_loss: 4.6431e-05\n",
            "\n",
            "Epoch 00024: val_loss improved from 0.00005 to 0.00005, saving model to /content/drive/My Drive/Colab Notebooks/03-stock-samsung/model/tmp_checkpoint.h5\n",
            "Epoch 25/200\n",
            "6086/6086 [==============================] - 12s 2ms/step - loss: 5.3536e-05 - val_loss: 4.5234e-05\n",
            "\n",
            "Epoch 00025: val_loss improved from 0.00005 to 0.00005, saving model to /content/drive/My Drive/Colab Notebooks/03-stock-samsung/model/tmp_checkpoint.h5\n",
            "Epoch 26/200\n",
            "6086/6086 [==============================] - 12s 2ms/step - loss: 5.4478e-05 - val_loss: 1.3731e-04\n",
            "\n",
            "Epoch 00026: val_loss did not improve from 0.00005\n",
            "Epoch 27/200\n",
            "6086/6086 [==============================] - 12s 2ms/step - loss: 5.2111e-05 - val_loss: 4.9953e-05\n",
            "\n",
            "Epoch 00027: val_loss did not improve from 0.00005\n",
            "Epoch 28/200\n",
            "6086/6086 [==============================] - 12s 2ms/step - loss: 5.1283e-05 - val_loss: 4.3848e-05\n",
            "\n",
            "Epoch 00028: val_loss improved from 0.00005 to 0.00004, saving model to /content/drive/My Drive/Colab Notebooks/03-stock-samsung/model/tmp_checkpoint.h5\n",
            "Epoch 29/200\n",
            "6086/6086 [==============================] - 12s 2ms/step - loss: 5.2129e-05 - val_loss: 4.4707e-05\n",
            "\n",
            "Epoch 00029: val_loss did not improve from 0.00004\n",
            "Epoch 30/200\n",
            "6086/6086 [==============================] - 12s 2ms/step - loss: 5.2427e-05 - val_loss: 4.9472e-05\n",
            "\n",
            "Epoch 00030: val_loss did not improve from 0.00004\n",
            "Epoch 31/200\n",
            "6086/6086 [==============================] - 12s 2ms/step - loss: 5.2863e-05 - val_loss: 5.0713e-05\n",
            "\n",
            "Epoch 00031: val_loss did not improve from 0.00004\n",
            "Epoch 32/200\n",
            "6086/6086 [==============================] - 12s 2ms/step - loss: 5.0875e-05 - val_loss: 4.3402e-05\n",
            "\n",
            "Epoch 00032: val_loss improved from 0.00004 to 0.00004, saving model to /content/drive/My Drive/Colab Notebooks/03-stock-samsung/model/tmp_checkpoint.h5\n",
            "Epoch 33/200\n",
            "6086/6086 [==============================] - 12s 2ms/step - loss: 5.0713e-05 - val_loss: 5.6462e-05\n",
            "\n",
            "Epoch 00033: val_loss did not improve from 0.00004\n",
            "Epoch 34/200\n",
            "6086/6086 [==============================] - 12s 2ms/step - loss: 5.1568e-05 - val_loss: 5.2661e-05\n",
            "\n",
            "Epoch 00034: val_loss did not improve from 0.00004\n",
            "Epoch 35/200\n",
            "6086/6086 [==============================] - 12s 2ms/step - loss: 4.9395e-05 - val_loss: 6.6389e-05\n",
            "\n",
            "Epoch 00035: val_loss did not improve from 0.00004\n",
            "Epoch 36/200\n",
            "6086/6086 [==============================] - 12s 2ms/step - loss: 4.9975e-05 - val_loss: 4.5229e-05\n",
            "\n",
            "Epoch 00036: val_loss did not improve from 0.00004\n",
            "Epoch 37/200\n",
            "6086/6086 [==============================] - 12s 2ms/step - loss: 4.7092e-05 - val_loss: 7.4132e-05\n",
            "\n",
            "Epoch 00037: val_loss did not improve from 0.00004\n"
          ],
          "name": "stdout"
        }
      ]
    },
    {
      "cell_type": "code",
      "metadata": {
        "id": "RoPIDRSo32f-",
        "colab_type": "code",
        "colab": {}
      },
      "source": [
        "model.load_weights(filename)"
      ],
      "execution_count": 0,
      "outputs": []
    },
    {
      "cell_type": "code",
      "metadata": {
        "id": "WxAxSLNL0l8Z",
        "colab_type": "code",
        "colab": {}
      },
      "source": [
        "pred = model.predict(test_feature)"
      ],
      "execution_count": 0,
      "outputs": []
    },
    {
      "cell_type": "code",
      "metadata": {
        "id": "yMPXjSQ10l8d",
        "colab_type": "code",
        "outputId": "c742e25c-fd8c-4c62-ba46-43eac3802a46",
        "colab": {
          "base_uri": "https://localhost:8080/",
          "height": 35
        }
      },
      "source": [
        "pred.shape"
      ],
      "execution_count": 45,
      "outputs": [
        {
          "output_type": "execute_result",
          "data": {
            "text/plain": [
              "(180, 1)"
            ]
          },
          "metadata": {
            "tags": []
          },
          "execution_count": 45
        }
      ]
    },
    {
      "cell_type": "markdown",
      "metadata": {
        "id": "jaWpXnQf6zMt",
        "colab_type": "text"
      },
      "source": [
        "## 예측 데이터 시각화"
      ]
    },
    {
      "cell_type": "code",
      "metadata": {
        "id": "2F4QQ1O_0l8m",
        "colab_type": "code",
        "outputId": "42555f80-d80c-4361-b0ed-5651c1097899",
        "colab": {
          "base_uri": "https://localhost:8080/",
          "height": 537
        }
      },
      "source": [
        "plt.figure(figsize=(12, 9))\n",
        "plt.plot(test_label, label='actual')\n",
        "plt.plot(pred, label='prediction')\n",
        "plt.legend()\n",
        "plt.show()"
      ],
      "execution_count": 46,
      "outputs": [
        {
          "output_type": "display_data",
          "data": {
            "image/png": "[encoded data removed]",
            "text/plain": [
              "<Figure size 864x648 with 1 Axes>"
            ]
          },
          "metadata": {
            "tags": [],
            "image/png": {
              "width": 713,
              "height": 520
            }
          }
        }
      ]
    },
    {
      "cell_type": "code",
      "metadata": {
        "id": "AyQr6AJjcYlQ",
        "colab_type": "code",
        "colab": {}
      },
      "source": [
        ""
      ],
      "execution_count": 0,
      "outputs": []
    }
  ]
}