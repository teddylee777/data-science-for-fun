{
 "cells": [
  {
   "cell_type": "markdown",
   "metadata": {},
   "source": [
    "# Part 1"
   ]
  },
  {
   "cell_type": "markdown",
   "metadata": {},
   "source": [
    "## Pandas 데이터 분석 모듈 불러오기"
   ]
  },
  {
   "cell_type": "markdown",
   "metadata": {},
   "source": [
    "pandas는 무료 오픈소스로 공개된 라이브러리입니다.\n",
    "\n",
    "**라이브러리**는 보통 다양한 기능들을 손쉽게 사용할 수 있도록 만들어진 하나의 목적을 가진 기능들의 집합체입니다.\n",
    "<br>pandas는 **대표적인 데이터 분석 라이브러리** 입니다.\n",
    "\n",
    "더 궁금하신 분들은 [공식 홈페이지](https://pandas.pydata.org/)를 참고하시면 좋습니다. (물론, 영어로 되어 있어요..)\n",
    "\n",
    "제가 작성한 블로그 글인 [10분만에 pandas 정복하기 - 대한민국 부동산 데이터 활용편](https://teddylee777.github.io/data_science/10minutes-to-pandas-%EB%B6%80%EB%8F%99%EC%82%B0%EC%8B%A4%EC%A0%9C%EB%8D%B0%EC%9D%B4%ED%84%B0-%ED%99%9C%EC%9A%A9%ED%95%98%EA%B8%B0) 을 참고하시면 도움이 될 것 같습니다."
   ]
  },
  {
   "cell_type": "code",
   "execution_count": 1,
   "metadata": {},
   "outputs": [],
   "source": [
    "# tip 1. 모듈(=라이브러리)을 불러올 때는 import 라는 구문 다음에 라이브러리의 이름을 적습니다.\n",
    "# tip 2. as pd라고 하는 부분은 별칭을 지어주는 것입니다. pandas라는 라이브러리를 난 앞으로 'pd'라고 부를 꺼야 입니다.\n",
    "import pandas as pd"
   ]
  },
  {
   "cell_type": "code",
   "execution_count": 15,
   "metadata": {},
   "outputs": [],
   "source": [
    "pd.set_option('display.float_format', lambda x: '%.1f' % x)"
   ]
  },
  {
   "cell_type": "markdown",
   "metadata": {},
   "source": [
    "## 데이터 불러오기"
   ]
  },
  {
   "cell_type": "markdown",
   "metadata": {},
   "source": [
    "데이터 분석의 첫 걸음인 모듈(=라이브러리)을 불러왔다면, 이제 데이터를 불러올 차례입니다!"
   ]
  },
  {
   "cell_type": "markdown",
   "metadata": {},
   "source": [
    "CSV(Comma-seperated values)는 데이터 분석에서 굉장히 많이 사용되는 파일 확장자입니다.\n",
    "\n",
    "말그대로 Comma(쉼표)로 분리된 데이터이며, excel포맷으로 저장하는 것보다 훨씬 빠르게 데이터를 불러올 수 있기 때문에 csv 포맷을 많이 사용하여 데이터를 저장하거나 불러올 수 있습니다. 너무나 다행히도, pandas에서 csv파일로 저장하거나 불러올 수 있는 기능이 있습니다.\n",
    "\n",
    "아래에는 편의상 .csv로 된 파일을 다운로드 url을 통해 제공하고 있습니다.\n",
    "<br>아래와 같이 다운로드 가능한 .csv 파일형식의 url을 알고 있다면, 아래와 같이 바로 읽어 들여올 수 있습니다."
   ]
  },
  {
   "cell_type": "code",
   "execution_count": 8,
   "metadata": {},
   "outputs": [],
   "source": [
    "data = pd.read_csv('http://bit.ly/ld-sample-idol', index_col='순위')"
   ]
  },
  {
   "cell_type": "code",
   "execution_count": 9,
   "metadata": {},
   "outputs": [
    {
     "data": {
      "text/html": [
       "<div>\n",
       "<style scoped>\n",
       "    .dataframe tbody tr th:only-of-type {\n",
       "        vertical-align: middle;\n",
       "    }\n",
       "\n",
       "    .dataframe tbody tr th {\n",
       "        vertical-align: top;\n",
       "    }\n",
       "\n",
       "    .dataframe thead th {\n",
       "        text-align: right;\n",
       "    }\n",
       "</style>\n",
       "<table border=\"1\" class=\"dataframe\">\n",
       "  <thead>\n",
       "    <tr style=\"text-align: right;\">\n",
       "      <th></th>\n",
       "      <th>이름</th>\n",
       "      <th>그룹</th>\n",
       "      <th>소속사</th>\n",
       "      <th>성별</th>\n",
       "      <th>생년월일</th>\n",
       "      <th>키</th>\n",
       "      <th>혈액형</th>\n",
       "      <th>브랜드평판지수</th>\n",
       "    </tr>\n",
       "    <tr>\n",
       "      <th>순위</th>\n",
       "      <th></th>\n",
       "      <th></th>\n",
       "      <th></th>\n",
       "      <th></th>\n",
       "      <th></th>\n",
       "      <th></th>\n",
       "      <th></th>\n",
       "      <th></th>\n",
       "    </tr>\n",
       "  </thead>\n",
       "  <tbody>\n",
       "    <tr>\n",
       "      <th>1</th>\n",
       "      <td>지민</td>\n",
       "      <td>방탄소년단</td>\n",
       "      <td>빅히트</td>\n",
       "      <td>남자</td>\n",
       "      <td>1995-10-13</td>\n",
       "      <td>173.6</td>\n",
       "      <td>A</td>\n",
       "      <td>10523260</td>\n",
       "    </tr>\n",
       "    <tr>\n",
       "      <th>2</th>\n",
       "      <td>지드래곤</td>\n",
       "      <td>빅뱅</td>\n",
       "      <td>YG</td>\n",
       "      <td>남자</td>\n",
       "      <td>1988-08-18</td>\n",
       "      <td>177.0</td>\n",
       "      <td>A</td>\n",
       "      <td>9916947</td>\n",
       "    </tr>\n",
       "    <tr>\n",
       "      <th>3</th>\n",
       "      <td>강다니엘</td>\n",
       "      <td>NaN</td>\n",
       "      <td>커넥트</td>\n",
       "      <td>남자</td>\n",
       "      <td>1996-12-10</td>\n",
       "      <td>180.0</td>\n",
       "      <td>A</td>\n",
       "      <td>8273745</td>\n",
       "    </tr>\n",
       "    <tr>\n",
       "      <th>4</th>\n",
       "      <td>뷔</td>\n",
       "      <td>방탄소년단</td>\n",
       "      <td>빅히트</td>\n",
       "      <td>남자</td>\n",
       "      <td>1995-12-30</td>\n",
       "      <td>178.0</td>\n",
       "      <td>AB</td>\n",
       "      <td>8073501</td>\n",
       "    </tr>\n",
       "    <tr>\n",
       "      <th>5</th>\n",
       "      <td>화사</td>\n",
       "      <td>마마무</td>\n",
       "      <td>RBW</td>\n",
       "      <td>여자</td>\n",
       "      <td>1995-07-23</td>\n",
       "      <td>162.0</td>\n",
       "      <td>A</td>\n",
       "      <td>7650928</td>\n",
       "    </tr>\n",
       "  </tbody>\n",
       "</table>\n",
       "</div>"
      ],
      "text/plain": [
       "      이름     그룹  소속사  성별        생년월일      키 혈액형   브랜드평판지수\n",
       "순위                                                       \n",
       "1     지민  방탄소년단  빅히트  남자  1995-10-13  173.6   A  10523260\n",
       "2   지드래곤     빅뱅   YG  남자  1988-08-18  177.0   A   9916947\n",
       "3   강다니엘    NaN  커넥트  남자  1996-12-10  180.0   A   8273745\n",
       "4      뷔  방탄소년단  빅히트  남자  1995-12-30  178.0  AB   8073501\n",
       "5     화사    마마무  RBW  여자  1995-07-23  162.0   A   7650928"
      ]
     },
     "execution_count": 9,
     "metadata": {},
     "output_type": "execute_result"
    }
   ],
   "source": [
    "data.head()"
   ]
  },
  {
   "cell_type": "markdown",
   "metadata": {},
   "source": [
    "여기까지 아무런 오류가 나지 않았다면 성공입니다!"
   ]
  },
  {
   "cell_type": "markdown",
   "metadata": {},
   "source": [
    "## 데이터 접근하기"
   ]
  },
  {
   "cell_type": "markdown",
   "metadata": {},
   "source": [
    "위의 표와 같은 형태를 pandas에서는 **dataframe**이라고 부릅니다.\n",
    "<br>2차원 데이터로 표현되어 있고, 마치 엑셀처럼 생겼기 때문에 이질감이 없습니다.\n",
    "\n",
    "'순위', '이름', '그룹'...가로 방향을 우리는 **column(열)**이라고 합니다.\n",
    "<br>그리고 세로 방향을 우리는 **row(행)**이라고 합니다."
   ]
  },
  {
   "cell_type": "markdown",
   "metadata": {},
   "source": [
    "<hr>dataframe은 반드시 row와 column으로 구성된 2차원(2d)으로 구성된 데이터 셋 (데이터 묶음)입니다.\n",
    "\n",
    "너무 어렵게 생각할 필요 없이 그냥 엑셀을 떠올리시면 됩니다. (엑셀 = dataframe)"
   ]
  },
  {
   "cell_type": "markdown",
   "metadata": {},
   "source": [
    "<hr>\n",
    "엑셀에서 행 전체 선택, 열 전체 선택, 혹은 모두 선택 가능하잖아요?\n",
    "\n",
    "dataframe도 당연히 됩니다! 하지만, 조금은 불편할 수 있어요. 왜냐하면 마우스로 선택은 불가능 하거든요.\n",
    "<br>하지만, 조금만 연습하고 익숙해지면, 마우스로 선택하는 것보다 훨씬 편리하고 빠르게 하게 됩니다^^\n"
   ]
  },
  {
   "cell_type": "markdown",
   "metadata": {},
   "source": [
    "## column 선택"
   ]
  },
  {
   "cell_type": "markdown",
   "metadata": {},
   "source": [
    "아래의 예시처럼 홑따옴표 '' 혹은 쌍따옴표 \"\" 안에 column명을 넣어주면 됩니다."
   ]
  },
  {
   "cell_type": "code",
   "execution_count": 29,
   "metadata": {},
   "outputs": [
    {
     "data": {
      "text/plain": [
       "순위\n",
       "1       지민\n",
       "2     지드래곤\n",
       "3     강다니엘\n",
       "4        뷔\n",
       "5       화사\n",
       "6       정국\n",
       "7       민현\n",
       "8       소연\n",
       "9        진\n",
       "10     하성운\n",
       "11      태연\n",
       "12     차은우\n",
       "13      백호\n",
       "14      JR\n",
       "15      슈가\n",
       "Name: 이름, dtype: object"
      ]
     },
     "execution_count": 29,
     "metadata": {},
     "output_type": "execute_result"
    }
   ],
   "source": [
    "data['이름']"
   ]
  },
  {
   "cell_type": "code",
   "execution_count": 31,
   "metadata": {},
   "outputs": [
    {
     "data": {
      "text/plain": [
       "순위\n",
       "1       지민\n",
       "2     지드래곤\n",
       "3     강다니엘\n",
       "4        뷔\n",
       "5       화사\n",
       "6       정국\n",
       "7       민현\n",
       "8       소연\n",
       "9        진\n",
       "10     하성운\n",
       "11      태연\n",
       "12     차은우\n",
       "13      백호\n",
       "14      JR\n",
       "15      슈가\n",
       "Name: 이름, dtype: object"
      ]
     },
     "execution_count": 31,
     "metadata": {},
     "output_type": "execute_result"
    }
   ],
   "source": [
    "data[\"이름\"]"
   ]
  },
  {
   "cell_type": "markdown",
   "metadata": {},
   "source": [
    "dot(점)을 찍고 불러올 수 있습니다만, 별로 추천드리고 싶은 방식은 아닙니다.\n",
    "<br>가독성이 떨어지며, 트렌드에 맞춰가야 나중에 다른 사람의 코드를 봤을 때도 이질감이 없을 수 있습니다."
   ]
  },
  {
   "cell_type": "code",
   "execution_count": 32,
   "metadata": {},
   "outputs": [
    {
     "data": {
      "text/plain": [
       "순위\n",
       "1       지민\n",
       "2     지드래곤\n",
       "3     강다니엘\n",
       "4        뷔\n",
       "5       화사\n",
       "6       정국\n",
       "7       민현\n",
       "8       소연\n",
       "9        진\n",
       "10     하성운\n",
       "11      태연\n",
       "12     차은우\n",
       "13      백호\n",
       "14      JR\n",
       "15      슈가\n",
       "Name: 이름, dtype: object"
      ]
     },
     "execution_count": 32,
     "metadata": {},
     "output_type": "execute_result"
    }
   ],
   "source": [
    "data.이름"
   ]
  },
  {
   "cell_type": "markdown",
   "metadata": {},
   "source": [
    "## row 선택"
   ]
  },
  {
   "cell_type": "markdown",
   "metadata": {},
   "source": [
    "iloc이라는 함수를 통해 한마디로 row의 숫자를 지정하거나 범위로 지정할 수 도 있습니다."
   ]
  },
  {
   "cell_type": "markdown",
   "metadata": {},
   "source": [
    "(이 부분은 나중에 조건문 필터링 부분에서 어차피 한번 더 다뤄질 내용입니다)"
   ]
  },
  {
   "cell_type": "code",
   "execution_count": 37,
   "metadata": {},
   "outputs": [
    {
     "data": {
      "text/plain": [
       "이름                  뷔\n",
       "그룹              방탄소년단\n",
       "소속사               빅히트\n",
       "성별                 남자\n",
       "생년월일       1995-12-30\n",
       "키               178.0\n",
       "혈액형                AB\n",
       "브랜드평판지수       8073501\n",
       "Name: 4, dtype: object"
      ]
     },
     "execution_count": 37,
     "metadata": {},
     "output_type": "execute_result"
    }
   ],
   "source": [
    "# 1개의 row 선택\n",
    "data.iloc[3]"
   ]
  },
  {
   "cell_type": "code",
   "execution_count": 38,
   "metadata": {},
   "outputs": [
    {
     "data": {
      "text/html": [
       "<div>\n",
       "<style scoped>\n",
       "    .dataframe tbody tr th:only-of-type {\n",
       "        vertical-align: middle;\n",
       "    }\n",
       "\n",
       "    .dataframe tbody tr th {\n",
       "        vertical-align: top;\n",
       "    }\n",
       "\n",
       "    .dataframe thead th {\n",
       "        text-align: right;\n",
       "    }\n",
       "</style>\n",
       "<table border=\"1\" class=\"dataframe\">\n",
       "  <thead>\n",
       "    <tr style=\"text-align: right;\">\n",
       "      <th></th>\n",
       "      <th>이름</th>\n",
       "      <th>그룹</th>\n",
       "      <th>소속사</th>\n",
       "      <th>성별</th>\n",
       "      <th>생년월일</th>\n",
       "      <th>키</th>\n",
       "      <th>혈액형</th>\n",
       "      <th>브랜드평판지수</th>\n",
       "    </tr>\n",
       "    <tr>\n",
       "      <th>순위</th>\n",
       "      <th></th>\n",
       "      <th></th>\n",
       "      <th></th>\n",
       "      <th></th>\n",
       "      <th></th>\n",
       "      <th></th>\n",
       "      <th></th>\n",
       "      <th></th>\n",
       "    </tr>\n",
       "  </thead>\n",
       "  <tbody>\n",
       "    <tr>\n",
       "      <th>4</th>\n",
       "      <td>뷔</td>\n",
       "      <td>방탄소년단</td>\n",
       "      <td>빅히트</td>\n",
       "      <td>남자</td>\n",
       "      <td>1995-12-30</td>\n",
       "      <td>178.0</td>\n",
       "      <td>AB</td>\n",
       "      <td>8073501</td>\n",
       "    </tr>\n",
       "    <tr>\n",
       "      <th>5</th>\n",
       "      <td>화사</td>\n",
       "      <td>마마무</td>\n",
       "      <td>RBW</td>\n",
       "      <td>여자</td>\n",
       "      <td>1995-07-23</td>\n",
       "      <td>162.0</td>\n",
       "      <td>A</td>\n",
       "      <td>7650928</td>\n",
       "    </tr>\n",
       "    <tr>\n",
       "      <th>6</th>\n",
       "      <td>정국</td>\n",
       "      <td>방탄소년단</td>\n",
       "      <td>빅히트</td>\n",
       "      <td>남자</td>\n",
       "      <td>1997-09-01</td>\n",
       "      <td>178.0</td>\n",
       "      <td>A</td>\n",
       "      <td>5208335</td>\n",
       "    </tr>\n",
       "    <tr>\n",
       "      <th>7</th>\n",
       "      <td>민현</td>\n",
       "      <td>뉴이스트</td>\n",
       "      <td>플레디스</td>\n",
       "      <td>남자</td>\n",
       "      <td>1995-08-09</td>\n",
       "      <td>182.0</td>\n",
       "      <td>O</td>\n",
       "      <td>4989792</td>\n",
       "    </tr>\n",
       "  </tbody>\n",
       "</table>\n",
       "</div>"
      ],
      "text/plain": [
       "    이름     그룹   소속사  성별        생년월일     키 혈액형  브랜드평판지수\n",
       "순위                                                    \n",
       "4    뷔  방탄소년단   빅히트  남자  1995-12-30 178.0  AB  8073501\n",
       "5   화사    마마무   RBW  여자  1995-07-23 162.0   A  7650928\n",
       "6   정국  방탄소년단   빅히트  남자  1997-09-01 178.0   A  5208335\n",
       "7   민현   뉴이스트  플레디스  남자  1995-08-09 182.0   O  4989792"
      ]
     },
     "execution_count": 38,
     "metadata": {},
     "output_type": "execute_result"
    }
   ],
   "source": [
    "# 범위의 row 선택\n",
    "data.iloc[3:7]"
   ]
  },
  {
   "cell_type": "code",
   "execution_count": 63,
   "metadata": {},
   "outputs": [
    {
     "data": {
      "text/html": [
       "<div>\n",
       "<style scoped>\n",
       "    .dataframe tbody tr th:only-of-type {\n",
       "        vertical-align: middle;\n",
       "    }\n",
       "\n",
       "    .dataframe tbody tr th {\n",
       "        vertical-align: top;\n",
       "    }\n",
       "\n",
       "    .dataframe thead th {\n",
       "        text-align: right;\n",
       "    }\n",
       "</style>\n",
       "<table border=\"1\" class=\"dataframe\">\n",
       "  <thead>\n",
       "    <tr style=\"text-align: right;\">\n",
       "      <th></th>\n",
       "      <th>이름</th>\n",
       "      <th>그룹</th>\n",
       "      <th>소속사</th>\n",
       "      <th>성별</th>\n",
       "      <th>생년월일</th>\n",
       "      <th>키</th>\n",
       "      <th>혈액형</th>\n",
       "      <th>브랜드평판지수</th>\n",
       "    </tr>\n",
       "    <tr>\n",
       "      <th>순위</th>\n",
       "      <th></th>\n",
       "      <th></th>\n",
       "      <th></th>\n",
       "      <th></th>\n",
       "      <th></th>\n",
       "      <th></th>\n",
       "      <th></th>\n",
       "      <th></th>\n",
       "    </tr>\n",
       "  </thead>\n",
       "  <tbody>\n",
       "    <tr>\n",
       "      <th>2</th>\n",
       "      <td>지드래곤</td>\n",
       "      <td>빅뱅</td>\n",
       "      <td>YG</td>\n",
       "      <td>남자</td>\n",
       "      <td>1988-08-18</td>\n",
       "      <td>177.0</td>\n",
       "      <td>A</td>\n",
       "      <td>9916947</td>\n",
       "    </tr>\n",
       "    <tr>\n",
       "      <th>4</th>\n",
       "      <td>뷔</td>\n",
       "      <td>방탄소년단</td>\n",
       "      <td>빅히트</td>\n",
       "      <td>남자</td>\n",
       "      <td>1995-12-30</td>\n",
       "      <td>178.0</td>\n",
       "      <td>AB</td>\n",
       "      <td>8073501</td>\n",
       "    </tr>\n",
       "    <tr>\n",
       "      <th>6</th>\n",
       "      <td>정국</td>\n",
       "      <td>방탄소년단</td>\n",
       "      <td>빅히트</td>\n",
       "      <td>남자</td>\n",
       "      <td>1997-09-01</td>\n",
       "      <td>178.0</td>\n",
       "      <td>A</td>\n",
       "      <td>5208335</td>\n",
       "    </tr>\n",
       "    <tr>\n",
       "      <th>8</th>\n",
       "      <td>소연</td>\n",
       "      <td>아이들</td>\n",
       "      <td>큐브</td>\n",
       "      <td>여자</td>\n",
       "      <td>1998-08-26</td>\n",
       "      <td>157.0</td>\n",
       "      <td>B</td>\n",
       "      <td>4668615</td>\n",
       "    </tr>\n",
       "    <tr>\n",
       "      <th>10</th>\n",
       "      <td>하성운</td>\n",
       "      <td>핫샷</td>\n",
       "      <td>스타크루이엔티</td>\n",
       "      <td>남자</td>\n",
       "      <td>1994-03-22</td>\n",
       "      <td>167.0</td>\n",
       "      <td>A</td>\n",
       "      <td>4036489</td>\n",
       "    </tr>\n",
       "  </tbody>\n",
       "</table>\n",
       "</div>"
      ],
      "text/plain": [
       "      이름     그룹      소속사  성별        생년월일     키 혈액형  브랜드평판지수\n",
       "순위                                                         \n",
       "2   지드래곤     빅뱅       YG  남자  1988-08-18 177.0   A  9916947\n",
       "4      뷔  방탄소년단      빅히트  남자  1995-12-30 178.0  AB  8073501\n",
       "6     정국  방탄소년단      빅히트  남자  1997-09-01 178.0   A  5208335\n",
       "8     소연    아이들       큐브  여자  1998-08-26 157.0   B  4668615\n",
       "10   하성운     핫샷  스타크루이엔티  남자  1994-03-22 167.0   A  4036489"
      ]
     },
     "execution_count": 63,
     "metadata": {},
     "output_type": "execute_result"
    }
   ],
   "source": [
    "# 띄업띄엄 선택하여 가져오기\n",
    "select = [1,3,5,7,9]\n",
    "data.iloc[select]"
   ]
  },
  {
   "cell_type": "code",
   "execution_count": 64,
   "metadata": {},
   "outputs": [
    {
     "data": {
      "text/html": [
       "<div>\n",
       "<style scoped>\n",
       "    .dataframe tbody tr th:only-of-type {\n",
       "        vertical-align: middle;\n",
       "    }\n",
       "\n",
       "    .dataframe tbody tr th {\n",
       "        vertical-align: top;\n",
       "    }\n",
       "\n",
       "    .dataframe thead th {\n",
       "        text-align: right;\n",
       "    }\n",
       "</style>\n",
       "<table border=\"1\" class=\"dataframe\">\n",
       "  <thead>\n",
       "    <tr style=\"text-align: right;\">\n",
       "      <th></th>\n",
       "      <th>이름</th>\n",
       "      <th>그룹</th>\n",
       "      <th>소속사</th>\n",
       "      <th>성별</th>\n",
       "      <th>생년월일</th>\n",
       "      <th>키</th>\n",
       "      <th>혈액형</th>\n",
       "      <th>브랜드평판지수</th>\n",
       "    </tr>\n",
       "    <tr>\n",
       "      <th>순위</th>\n",
       "      <th></th>\n",
       "      <th></th>\n",
       "      <th></th>\n",
       "      <th></th>\n",
       "      <th></th>\n",
       "      <th></th>\n",
       "      <th></th>\n",
       "      <th></th>\n",
       "    </tr>\n",
       "  </thead>\n",
       "  <tbody>\n",
       "    <tr>\n",
       "      <th>2</th>\n",
       "      <td>지드래곤</td>\n",
       "      <td>빅뱅</td>\n",
       "      <td>YG</td>\n",
       "      <td>남자</td>\n",
       "      <td>1988-08-18</td>\n",
       "      <td>177.0</td>\n",
       "      <td>A</td>\n",
       "      <td>9916947</td>\n",
       "    </tr>\n",
       "    <tr>\n",
       "      <th>4</th>\n",
       "      <td>뷔</td>\n",
       "      <td>방탄소년단</td>\n",
       "      <td>빅히트</td>\n",
       "      <td>남자</td>\n",
       "      <td>1995-12-30</td>\n",
       "      <td>178.0</td>\n",
       "      <td>AB</td>\n",
       "      <td>8073501</td>\n",
       "    </tr>\n",
       "    <tr>\n",
       "      <th>6</th>\n",
       "      <td>정국</td>\n",
       "      <td>방탄소년단</td>\n",
       "      <td>빅히트</td>\n",
       "      <td>남자</td>\n",
       "      <td>1997-09-01</td>\n",
       "      <td>178.0</td>\n",
       "      <td>A</td>\n",
       "      <td>5208335</td>\n",
       "    </tr>\n",
       "    <tr>\n",
       "      <th>8</th>\n",
       "      <td>소연</td>\n",
       "      <td>아이들</td>\n",
       "      <td>큐브</td>\n",
       "      <td>여자</td>\n",
       "      <td>1998-08-26</td>\n",
       "      <td>157.0</td>\n",
       "      <td>B</td>\n",
       "      <td>4668615</td>\n",
       "    </tr>\n",
       "    <tr>\n",
       "      <th>10</th>\n",
       "      <td>하성운</td>\n",
       "      <td>핫샷</td>\n",
       "      <td>스타크루이엔티</td>\n",
       "      <td>남자</td>\n",
       "      <td>1994-03-22</td>\n",
       "      <td>167.0</td>\n",
       "      <td>A</td>\n",
       "      <td>4036489</td>\n",
       "    </tr>\n",
       "  </tbody>\n",
       "</table>\n",
       "</div>"
      ],
      "text/plain": [
       "      이름     그룹      소속사  성별        생년월일     키 혈액형  브랜드평판지수\n",
       "순위                                                         \n",
       "2   지드래곤     빅뱅       YG  남자  1988-08-18 177.0   A  9916947\n",
       "4      뷔  방탄소년단      빅히트  남자  1995-12-30 178.0  AB  8073501\n",
       "6     정국  방탄소년단      빅히트  남자  1997-09-01 178.0   A  5208335\n",
       "8     소연    아이들       큐브  여자  1998-08-26 157.0   B  4668615\n",
       "10   하성운     핫샷  스타크루이엔티  남자  1994-03-22 167.0   A  4036489"
      ]
     },
     "execution_count": 64,
     "metadata": {},
     "output_type": "execute_result"
    }
   ],
   "source": [
    "data.iloc[[1,3,5,7,9]]"
   ]
  },
  {
   "cell_type": "markdown",
   "metadata": {},
   "source": [
    "## column & row 선택"
   ]
  },
  {
   "cell_type": "code",
   "execution_count": 56,
   "metadata": {},
   "outputs": [
    {
     "data": {
      "text/plain": [
       "'뷔'"
      ]
     },
     "execution_count": 56,
     "metadata": {},
     "output_type": "execute_result"
    }
   ],
   "source": [
    "# column 선택 후 iloc 로 행 가져오기\n",
    "data['이름'].iloc[3]"
   ]
  },
  {
   "cell_type": "code",
   "execution_count": 57,
   "metadata": {},
   "outputs": [
    {
     "data": {
      "text/plain": [
       "순위\n",
       "4     뷔\n",
       "5    화사\n",
       "6    정국\n",
       "7    민현\n",
       "Name: 이름, dtype: object"
      ]
     },
     "execution_count": 57,
     "metadata": {},
     "output_type": "execute_result"
    }
   ],
   "source": [
    "# column 선택 후 범위로 가져오기\n",
    "data['이름'].iloc[3:7]"
   ]
  },
  {
   "cell_type": "code",
   "execution_count": 61,
   "metadata": {},
   "outputs": [
    {
     "data": {
      "text/plain": [
       "순위\n",
       "4       뷔\n",
       "6      정국\n",
       "9       진\n",
       "10    하성운\n",
       "Name: 이름, dtype: object"
      ]
     },
     "execution_count": 61,
     "metadata": {},
     "output_type": "execute_result"
    }
   ],
   "source": [
    "data['이름'].iloc[[3,5,8,9]]"
   ]
  },
  {
   "cell_type": "markdown",
   "metadata": {},
   "source": [
    "# Part 2: 데이터 분석 입문자로써 꼭 알아야 할 pandas 기능"
   ]
  },
  {
   "cell_type": "markdown",
   "metadata": {},
   "source": [
    "**<간단 산술 통계>를 위한 기능**\n",
    "\n",
    "* **info()**: 데이터의 간단한 정보를 살펴봅니다.\n",
    "* **describe()**: 데이터의 산술 통계 정보를 살펴봅니다.\n",
    "* **isnull()**: 데이터가 누락되었는지 여부를 확인합니다.\n",
    "* **sum()**: 데이터를 합산합니다. (Excel의 sum)\n",
    "* **value_counts()**: 데이터의 종류별 갯수를 확인합니다. (사과: 2개, 배: 3개)\n",
    "\n",
    "**<고급 산술 통계>를 위한 기능**\n",
    "* **groupby (혹은 pivot_table)**: 엑셀의 피벗테이블과 동일합니다. 연도별, 성별 통계랑과 같이 특정 column으로 데이터를 뽑아낼 때 활용합니다.\n",
    "\n",
    "**<조건 필터링>을 위한 기능**\n",
    "* **loc**: 조건문에 대한 필터를 걸어 데이터를 확인합니다.\n",
    "* **& 와 | 연산자**: & (and) 조건은 모두 만족하는 경우. | (or)조건은 하나의 조건이라도 만족하는 경우를 말합니다.\n",
    "\n",
    "\n",
    "**<데이터 전처리>를 위한 기능**\n",
    "* **replace()**: 데이터를 다른 값으로 일괄 바꿔줄 때 활용합니다.\n",
    "* **fillna()**: 빈 값을 채워줄 때 활용합니다. fill na 입니다. 여기서 na는 NaN (Not a Number)를 지칭하며, 숫자 뿐만아니라 비어 있는 값을 통틀어 지칭합니다.\n",
    "* **map()**: 데이터를 매핑해줍니다. 가령 사과=1, 배=2라고 매핑해준다고 한다면, 사과가 들어 있는 데이터는 모두 1로, 배가 들어 있는 데이터는 모두 2로 변경해 줍니다."
   ]
  },
  {
   "cell_type": "markdown",
   "metadata": {},
   "source": [
    "앞으로 천천히 하나하나 실습을 통해 배워나갈 예정이니 너무 두려워 마세요^^"
   ]
  },
  {
   "cell_type": "markdown",
   "metadata": {},
   "source": [
    "## info(): 데이터의 간단한 정보를 살펴봅니다."
   ]
  },
  {
   "cell_type": "markdown",
   "metadata": {},
   "source": [
    "아래 표를 보시면, **그룹** 열(column)에 갯수가 하나 부족한 것을 확인할 수 있습니다.\n",
    "<br>데이터 분석에서는 비어있는 값을 확인하고 처리해야 하는 작업이 매우 중요합니다.\n",
    "\n",
    "보통 데이터 분석에 본격적으로 시작하기에 앞서, **비어있는 값을 간단히 체크**하거나,\n",
    "<br>**데이터의 타입을 확인**할 때 사용합니다."
   ]
  },
  {
   "cell_type": "code",
   "execution_count": 10,
   "metadata": {},
   "outputs": [
    {
     "name": "stdout",
     "output_type": "stream",
     "text": [
      "<class 'pandas.core.frame.DataFrame'>\n",
      "Int64Index: 15 entries, 1 to 15\n",
      "Data columns (total 8 columns):\n",
      "이름         15 non-null object\n",
      "그룹         14 non-null object\n",
      "소속사        15 non-null object\n",
      "성별         15 non-null object\n",
      "생년월일       15 non-null object\n",
      "키          15 non-null float64\n",
      "혈액형        15 non-null object\n",
      "브랜드평판지수    15 non-null int64\n",
      "dtypes: float64(1), int64(1), object(6)\n",
      "memory usage: 1.1+ KB\n"
     ]
    }
   ],
   "source": [
    "data.info()"
   ]
  },
  {
   "cell_type": "markdown",
   "metadata": {},
   "source": [
    "## describe(): 데이터의 산술 통계 정보를 살펴봅니다."
   ]
  },
  {
   "cell_type": "markdown",
   "metadata": {},
   "source": [
    "describe 함수은 산술적인 통계 정보를 보여줍니다. 그렇기 때문에 **산술 가능한 column**인 '키'와 '브랜드평판지수'에 대해서만 보여줍니다.\n",
    "<br>산술 가능하다는 말은 숫자형 데이터로 이루어져 있다는 뜻입니다."
   ]
  },
  {
   "cell_type": "code",
   "execution_count": 20,
   "metadata": {},
   "outputs": [
    {
     "data": {
      "text/html": [
       "<div>\n",
       "<style scoped>\n",
       "    .dataframe tbody tr th:only-of-type {\n",
       "        vertical-align: middle;\n",
       "    }\n",
       "\n",
       "    .dataframe tbody tr th {\n",
       "        vertical-align: top;\n",
       "    }\n",
       "\n",
       "    .dataframe thead th {\n",
       "        text-align: right;\n",
       "    }\n",
       "</style>\n",
       "<table border=\"1\" class=\"dataframe\">\n",
       "  <thead>\n",
       "    <tr style=\"text-align: right;\">\n",
       "      <th></th>\n",
       "      <th>키</th>\n",
       "      <th>브랜드평판지수</th>\n",
       "    </tr>\n",
       "  </thead>\n",
       "  <tbody>\n",
       "    <tr>\n",
       "      <th>count</th>\n",
       "      <td>15.0</td>\n",
       "      <td>15.0</td>\n",
       "    </tr>\n",
       "    <tr>\n",
       "      <th>mean</th>\n",
       "      <td>173.4</td>\n",
       "      <td>5655856.1</td>\n",
       "    </tr>\n",
       "    <tr>\n",
       "      <th>std</th>\n",
       "      <td>8.1</td>\n",
       "      <td>2539068.0</td>\n",
       "    </tr>\n",
       "    <tr>\n",
       "      <th>min</th>\n",
       "      <td>157.0</td>\n",
       "      <td>2925442.0</td>\n",
       "    </tr>\n",
       "    <tr>\n",
       "      <th>25%</th>\n",
       "      <td>170.3</td>\n",
       "      <td>3712344.0</td>\n",
       "    </tr>\n",
       "    <tr>\n",
       "      <th>50%</th>\n",
       "      <td>176.0</td>\n",
       "      <td>4668615.0</td>\n",
       "    </tr>\n",
       "    <tr>\n",
       "      <th>75%</th>\n",
       "      <td>178.5</td>\n",
       "      <td>7862214.5</td>\n",
       "    </tr>\n",
       "    <tr>\n",
       "      <th>max</th>\n",
       "      <td>183.0</td>\n",
       "      <td>10523260.0</td>\n",
       "    </tr>\n",
       "  </tbody>\n",
       "</table>\n",
       "</div>"
      ],
      "text/plain": [
       "          키    브랜드평판지수\n",
       "count  15.0       15.0\n",
       "mean  173.4  5655856.1\n",
       "std     8.1  2539068.0\n",
       "min   157.0  2925442.0\n",
       "25%   170.3  3712344.0\n",
       "50%   176.0  4668615.0\n",
       "75%   178.5  7862214.5\n",
       "max   183.0 10523260.0"
      ]
     },
     "execution_count": 20,
     "metadata": {},
     "output_type": "execute_result"
    }
   ],
   "source": [
    "data.describe()"
   ]
  },
  {
   "cell_type": "markdown",
   "metadata": {},
   "source": [
    "## isnull(): 데이터가 누락되었는지 여부를 확인합니다."
   ]
  },
  {
   "cell_type": "markdown",
   "metadata": {},
   "source": [
    "isnull 이라는 함수는 빈 값인지 아닌지 여부를 보여 줍니다."
   ]
  },
  {
   "cell_type": "code",
   "execution_count": 24,
   "metadata": {},
   "outputs": [
    {
     "data": {
      "text/plain": [
       "순위\n",
       "1     False\n",
       "2     False\n",
       "3      True\n",
       "4     False\n",
       "5     False\n",
       "6     False\n",
       "7     False\n",
       "8     False\n",
       "9     False\n",
       "10    False\n",
       "11    False\n",
       "12    False\n",
       "13    False\n",
       "14    False\n",
       "15    False\n",
       "Name: 그룹, dtype: bool"
      ]
     },
     "execution_count": 24,
     "metadata": {},
     "output_type": "execute_result"
    }
   ],
   "source": [
    "data['그룹'].isnull()"
   ]
  },
  {
   "cell_type": "markdown",
   "metadata": {},
   "source": [
    "위에서 보면 True라고 되어 있는 행은 값이 비어있다는 뜻입니다."
   ]
  },
  {
   "cell_type": "markdown",
   "metadata": {},
   "source": [
    "총 비어 있는 행(row)의 갯수를 알고 싶다면, isnull()과 합계 함수인 sum()을 연속하여(chain command) 작성합니다."
   ]
  },
  {
   "cell_type": "code",
   "execution_count": 25,
   "metadata": {},
   "outputs": [
    {
     "data": {
      "text/plain": [
       "1"
      ]
     },
     "execution_count": 25,
     "metadata": {},
     "output_type": "execute_result"
    }
   ],
   "source": [
    "data['그룹'].isnull().sum()"
   ]
  },
  {
   "cell_type": "markdown",
   "metadata": {},
   "source": [
    "다시 한 번 해석해 보자면, '그룹'이라는 column에서는 빈 값이 총 1개이다 가 되겠네요!"
   ]
  },
  {
   "cell_type": "code",
   "execution_count": null,
   "metadata": {},
   "outputs": [],
   "source": []
  }
 ],
 "metadata": {
  "kernelspec": {
   "display_name": "Python 3",
   "language": "python",
   "name": "python3"
  },
  "language_info": {
   "codemirror_mode": {
    "name": "ipython",
    "version": 3
   },
   "file_extension": ".py",
   "mimetype": "text/x-python",
   "name": "python",
   "nbconvert_exporter": "python",
   "pygments_lexer": "ipython3",
   "version": "3.7.4"
  }
 },
 "nbformat": 4,
 "nbformat_minor": 2
}
